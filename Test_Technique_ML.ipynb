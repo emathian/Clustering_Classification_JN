{
 "cells": [
  {
   "cell_type": "markdown",
   "metadata": {},
   "source": [
    "# Part I : Quel(le) data scientist êtes-vous ?\n",
    "## Contexte de l’analyse\n",
    "\n",
    "Elu métier le plus sexy par la Harvard Business Review en octobre 2012, le data scientist représente un profil rare qui exige de nombreuses compétences.\n",
    "\n",
    "A partir d'un dataset Aquila, vous réaliserez :\n",
    "- un clustering non supervisé afin d'identifier 2 groupes de profils techniques distinctes\n",
    "- une prédiction des profils dont le métier n'est pas labellisé\n",
    "\n",
    "\n",
    "## Données\n",
    "data.csv contient 6 variables : \n",
    "    - 'Entreprise' correspond à une liste d'entreprises fictive\n",
    "    - 'Metier' correspond au métier parmi data scientist, lead data scientist, data engineer et data architecte\n",
    "    - 'Technologies' correspond aux compétences maîtrisées par le profil\n",
    "    - 'Diplome' correspond à son niveau scolaire (Bac, Master, PhD,...)\n",
    "    - 'Experience' correspond au nombre d'années d'expériences\n",
    "    - 'Ville' correspond au lieu de travail\n",
    "    \n",
    "\n",
    "\n",
    "## Répondez aux questions \n",
    "\n",
    "Bonne chance!"
   ]
  },
  {
   "cell_type": "code",
   "execution_count": 114,
   "metadata": {},
   "outputs": [],
   "source": [
    "# Import des libraries classique (numpy, pandas, ...)\n",
    "import pandas as pd\n",
    "import numpy as np\n",
    "import re\n",
    "import sklearn as sk\n",
    "import seaborn as sb\n",
    "from matplotlib import pyplot as plt\n",
    "plt.style.use('ggplot')"
   ]
  },
  {
   "cell_type": "markdown",
   "metadata": {},
   "source": [
    "### 1) Importer le tableau de données dans un dataframe "
   ]
  },
  {
   "cell_type": "code",
   "execution_count": 115,
   "metadata": {},
   "outputs": [],
   "source": [
    "# Import du dataframe \"data.csv\"\n",
    "df = pd.read_csv(\"data.csv\", decimal=\",\")  # The argument decimal=\",\"  replaces points by commas."
   ]
  },
  {
   "cell_type": "code",
   "execution_count": 116,
   "metadata": {},
   "outputs": [
    {
     "data": {
      "text/html": [
       "<div>\n",
       "<style scoped>\n",
       "    .dataframe tbody tr th:only-of-type {\n",
       "        vertical-align: middle;\n",
       "    }\n",
       "\n",
       "    .dataframe tbody tr th {\n",
       "        vertical-align: top;\n",
       "    }\n",
       "\n",
       "    .dataframe thead th {\n",
       "        text-align: right;\n",
       "    }\n",
       "</style>\n",
       "<table border=\"1\" class=\"dataframe\">\n",
       "  <thead>\n",
       "    <tr style=\"text-align: right;\">\n",
       "      <th></th>\n",
       "      <th>Entreprise</th>\n",
       "      <th>Metier</th>\n",
       "      <th>Technologies</th>\n",
       "      <th>Diplome</th>\n",
       "      <th>Experience</th>\n",
       "      <th>Ville</th>\n",
       "    </tr>\n",
       "  </thead>\n",
       "  <tbody>\n",
       "    <tr>\n",
       "      <th>0</th>\n",
       "      <td>Sanofi</td>\n",
       "      <td>Data scientist</td>\n",
       "      <td>Matlab/Python/Pyspark/Scikit-learn/Tensorflow</td>\n",
       "      <td>Master</td>\n",
       "      <td>1.0</td>\n",
       "      <td>Paris</td>\n",
       "    </tr>\n",
       "    <tr>\n",
       "      <th>1</th>\n",
       "      <td>Massachusetts General Hospital(MGH)</td>\n",
       "      <td>Data architecte</td>\n",
       "      <td>Python/Java/Scala/MongoDB</td>\n",
       "      <td>Master</td>\n",
       "      <td>3.0</td>\n",
       "      <td>Marseille</td>\n",
       "    </tr>\n",
       "    <tr>\n",
       "      <th>2</th>\n",
       "      <td>Delve</td>\n",
       "      <td>Lead data scientist</td>\n",
       "      <td>SPSS/SQL/Teradata/R/Python/Tensorflow/scikit-l...</td>\n",
       "      <td>Master</td>\n",
       "      <td>3.0</td>\n",
       "      <td>Nantes</td>\n",
       "    </tr>\n",
       "    <tr>\n",
       "      <th>3</th>\n",
       "      <td>Ann &amp; Robert H. Lurie Children’s Hospital of C...</td>\n",
       "      <td>Data scientist</td>\n",
       "      <td>C/C++/Java/Python</td>\n",
       "      <td>Master</td>\n",
       "      <td>1.5</td>\n",
       "      <td>Marseille</td>\n",
       "    </tr>\n",
       "    <tr>\n",
       "      <th>4</th>\n",
       "      <td>Arm</td>\n",
       "      <td>Data scientist</td>\n",
       "      <td>Matlab/Python/C++/numpy/Tensorflow/scikit-learn</td>\n",
       "      <td>Phd</td>\n",
       "      <td>NaN</td>\n",
       "      <td>Bordeaux</td>\n",
       "    </tr>\n",
       "  </tbody>\n",
       "</table>\n",
       "</div>"
      ],
      "text/plain": [
       "                                          Entreprise               Metier  \\\n",
       "0                                             Sanofi       Data scientist   \n",
       "1                Massachusetts General Hospital(MGH)      Data architecte   \n",
       "2                                              Delve  Lead data scientist   \n",
       "3  Ann & Robert H. Lurie Children’s Hospital of C...       Data scientist   \n",
       "4                                                Arm       Data scientist   \n",
       "\n",
       "                                        Technologies Diplome  Experience  \\\n",
       "0      Matlab/Python/Pyspark/Scikit-learn/Tensorflow  Master         1.0   \n",
       "1                          Python/Java/Scala/MongoDB  Master         3.0   \n",
       "2  SPSS/SQL/Teradata/R/Python/Tensorflow/scikit-l...  Master         3.0   \n",
       "3                                  C/C++/Java/Python  Master         1.5   \n",
       "4    Matlab/Python/C++/numpy/Tensorflow/scikit-learn     Phd         NaN   \n",
       "\n",
       "       Ville  \n",
       "0      Paris  \n",
       "1  Marseille  \n",
       "2     Nantes  \n",
       "3  Marseille  \n",
       "4   Bordeaux  "
      ]
     },
     "execution_count": 116,
     "metadata": {},
     "output_type": "execute_result"
    }
   ],
   "source": [
    "df.head()"
   ]
  },
  {
   "cell_type": "code",
   "execution_count": 117,
   "metadata": {},
   "outputs": [
    {
     "data": {
      "text/html": [
       "<div>\n",
       "<style scoped>\n",
       "    .dataframe tbody tr th:only-of-type {\n",
       "        vertical-align: middle;\n",
       "    }\n",
       "\n",
       "    .dataframe tbody tr th {\n",
       "        vertical-align: top;\n",
       "    }\n",
       "\n",
       "    .dataframe thead th {\n",
       "        text-align: right;\n",
       "    }\n",
       "</style>\n",
       "<table border=\"1\" class=\"dataframe\">\n",
       "  <thead>\n",
       "    <tr style=\"text-align: right;\">\n",
       "      <th></th>\n",
       "      <th>Experience</th>\n",
       "    </tr>\n",
       "  </thead>\n",
       "  <tbody>\n",
       "    <tr>\n",
       "      <th>count</th>\n",
       "      <td>9488.000000</td>\n",
       "    </tr>\n",
       "    <tr>\n",
       "      <th>mean</th>\n",
       "      <td>2.814186</td>\n",
       "    </tr>\n",
       "    <tr>\n",
       "      <th>std</th>\n",
       "      <td>2.716293</td>\n",
       "    </tr>\n",
       "    <tr>\n",
       "      <th>min</th>\n",
       "      <td>0.000000</td>\n",
       "    </tr>\n",
       "    <tr>\n",
       "      <th>25%</th>\n",
       "      <td>1.000000</td>\n",
       "    </tr>\n",
       "    <tr>\n",
       "      <th>50%</th>\n",
       "      <td>2.000000</td>\n",
       "    </tr>\n",
       "    <tr>\n",
       "      <th>75%</th>\n",
       "      <td>3.500000</td>\n",
       "    </tr>\n",
       "    <tr>\n",
       "      <th>max</th>\n",
       "      <td>21.000000</td>\n",
       "    </tr>\n",
       "  </tbody>\n",
       "</table>\n",
       "</div>"
      ],
      "text/plain": [
       "        Experience\n",
       "count  9488.000000\n",
       "mean      2.814186\n",
       "std       2.716293\n",
       "min       0.000000\n",
       "25%       1.000000\n",
       "50%       2.000000\n",
       "75%       3.500000\n",
       "max      21.000000"
      ]
     },
     "execution_count": 117,
     "metadata": {},
     "output_type": "execute_result"
    }
   ],
   "source": [
    "df.describe() # Basic stastical summary"
   ]
  },
  {
   "cell_type": "markdown",
   "metadata": {},
   "source": [
    "### 2) Combien y a t-il d'observations dans ce dataset? Y a t-il des valeurs manquantes? "
   ]
  },
  {
   "cell_type": "code",
   "execution_count": 118,
   "metadata": {},
   "outputs": [
    {
     "data": {
      "text/plain": [
       "'There are 9582 observations.'"
      ]
     },
     "execution_count": 118,
     "metadata": {},
     "output_type": "execute_result"
    }
   ],
   "source": [
    "'There are {} observations.'.format(df.shape[0]) # Size of the data frame"
   ]
  },
  {
   "cell_type": "markdown",
   "metadata": {},
   "source": [
    "The following command line shows the total number of missing values per variable:"
   ]
  },
  {
   "cell_type": "code",
   "execution_count": 119,
   "metadata": {},
   "outputs": [
    {
     "data": {
      "text/plain": [
       "Entreprise      17\n",
       "Metier          19\n",
       "Technologies     0\n",
       "Diplome          0\n",
       "Experience      94\n",
       "Ville            0\n",
       "dtype: int64"
      ]
     },
     "execution_count": 119,
     "metadata": {},
     "output_type": "execute_result"
    }
   ],
   "source": [
    "df.isna().sum()"
   ]
  },
  {
   "cell_type": "code",
   "execution_count": 120,
   "metadata": {},
   "outputs": [
    {
     "name": "stdout",
     "output_type": "stream",
     "text": [
      "The number of missing values is equal to 130.\n"
     ]
    }
   ],
   "source": [
    "print(f'The number of missing values is equal to {df.isna().sum().sum()}.')"
   ]
  },
  {
   "cell_type": "markdown",
   "metadata": {},
   "source": [
    "### 3) Réaliser l'imputation des valeurs manquantes pour la variable \"Experience\" avec : \n",
    "- la valeur médiane pour les data scientists\n",
    "- la valeur moyenne pour les data engineers"
   ]
  },
  {
   "cell_type": "code",
   "execution_count": 121,
   "metadata": {},
   "outputs": [
    {
     "data": {
      "text/plain": [
       "'The meadian experience for data scientists is equal to 2.0'"
      ]
     },
     "execution_count": 121,
     "metadata": {},
     "output_type": "execute_result"
    }
   ],
   "source": [
    "ExpDS = df['Experience'][df['Metier'] == 'Data scientist']\n",
    "MedExpDS = ExpDS.median(axis=0, skipna=True)\n",
    "'The meadian experience for data scientists is equal to {}'.format(MedExpDS)"
   ]
  },
  {
   "cell_type": "code",
   "execution_count": 122,
   "metadata": {},
   "outputs": [
    {
     "data": {
      "text/plain": [
       "'The meadian experience for data scientists is equal to 2.984959174903309'"
      ]
     },
     "execution_count": 122,
     "metadata": {},
     "output_type": "execute_result"
    }
   ],
   "source": [
    "ExpDE = df['Experience'][df['Metier'] == 'Data engineer']\n",
    "MeanExpDE = ExpDE.mean(axis=0, skipna=True)\n",
    "'The meadian experience for data scientists is equal to {}'.format(MeanExpDE)"
   ]
  },
  {
   "cell_type": "markdown",
   "metadata": {},
   "source": [
    "Using these two values we could impute the missing values such as:"
   ]
  },
  {
   "cell_type": "code",
   "execution_count": 123,
   "metadata": {},
   "outputs": [
    {
     "data": {
      "text/plain": [
       "\"There are 32 'experience' missing values for data scientists.\""
      ]
     },
     "execution_count": 123,
     "metadata": {},
     "output_type": "execute_result"
    }
   ],
   "source": [
    "\"There are {} 'experience' missing values for data scientists.\".format(df[\"Experience\"][df[\"Metier\"] == 'Data scientist'].isna().sum())"
   ]
  },
  {
   "cell_type": "code",
   "execution_count": 124,
   "metadata": {},
   "outputs": [
    {
     "data": {
      "text/plain": [
       "\"There are 20 'experience' missing values for data engineers.\""
      ]
     },
     "execution_count": 124,
     "metadata": {},
     "output_type": "execute_result"
    }
   ],
   "source": [
    "\"There are {} 'experience' missing values for data engineers.\".format(df[\"Experience\"][df[\"Metier\"] == 'Data engineer'].isna().sum())"
   ]
  },
  {
   "cell_type": "code",
   "execution_count": 125,
   "metadata": {},
   "outputs": [],
   "source": [
    "IndexMissingValuesDE  = list(df[df['Metier'] == 'Data engineer'].loc[df['Experience'].isnull(),'Experience'].index)"
   ]
  },
  {
   "cell_type": "code",
   "execution_count": 126,
   "metadata": {},
   "outputs": [],
   "source": [
    "df.iloc[IndexMissingValuesDE, 4] =  MeanExpDE"
   ]
  },
  {
   "cell_type": "code",
   "execution_count": 127,
   "metadata": {},
   "outputs": [],
   "source": [
    "IndexMissingValuesDS  = list(df[df['Metier'] == 'Data scientist'].loc[df['Experience'].isnull(),'Experience'].index)"
   ]
  },
  {
   "cell_type": "code",
   "execution_count": 128,
   "metadata": {},
   "outputs": [],
   "source": [
    "df.iloc[IndexMissingValuesDS, 4] =  MedExpDS"
   ]
  },
  {
   "cell_type": "code",
   "execution_count": 129,
   "metadata": {},
   "outputs": [
    {
     "data": {
      "text/html": [
       "<div>\n",
       "<style scoped>\n",
       "    .dataframe tbody tr th:only-of-type {\n",
       "        vertical-align: middle;\n",
       "    }\n",
       "\n",
       "    .dataframe tbody tr th {\n",
       "        vertical-align: top;\n",
       "    }\n",
       "\n",
       "    .dataframe thead th {\n",
       "        text-align: right;\n",
       "    }\n",
       "</style>\n",
       "<table border=\"1\" class=\"dataframe\">\n",
       "  <thead>\n",
       "    <tr style=\"text-align: right;\">\n",
       "      <th></th>\n",
       "      <th>Experience</th>\n",
       "    </tr>\n",
       "  </thead>\n",
       "  <tbody>\n",
       "    <tr>\n",
       "      <th>count</th>\n",
       "      <td>9540.000000</td>\n",
       "    </tr>\n",
       "    <tr>\n",
       "      <th>mean</th>\n",
       "      <td>2.811813</td>\n",
       "    </tr>\n",
       "    <tr>\n",
       "      <th>std</th>\n",
       "      <td>2.709299</td>\n",
       "    </tr>\n",
       "    <tr>\n",
       "      <th>min</th>\n",
       "      <td>0.000000</td>\n",
       "    </tr>\n",
       "    <tr>\n",
       "      <th>25%</th>\n",
       "      <td>1.000000</td>\n",
       "    </tr>\n",
       "    <tr>\n",
       "      <th>50%</th>\n",
       "      <td>2.000000</td>\n",
       "    </tr>\n",
       "    <tr>\n",
       "      <th>75%</th>\n",
       "      <td>3.500000</td>\n",
       "    </tr>\n",
       "    <tr>\n",
       "      <th>max</th>\n",
       "      <td>21.000000</td>\n",
       "    </tr>\n",
       "  </tbody>\n",
       "</table>\n",
       "</div>"
      ],
      "text/plain": [
       "        Experience\n",
       "count  9540.000000\n",
       "mean      2.811813\n",
       "std       2.709299\n",
       "min       0.000000\n",
       "25%       1.000000\n",
       "50%       2.000000\n",
       "75%       3.500000\n",
       "max      21.000000"
      ]
     },
     "execution_count": 129,
     "metadata": {},
     "output_type": "execute_result"
    }
   ],
   "source": [
    "df.describe()"
   ]
  },
  {
   "cell_type": "markdown",
   "metadata": {},
   "source": [
    "### 4) Combien d'années d'expériences ont, en moyenne, chacun des profils : le data scientist, le lead data scientist et le data engineer en moyenne?"
   ]
  },
  {
   "cell_type": "code",
   "execution_count": 130,
   "metadata": {},
   "outputs": [
    {
     "name": "stdout",
     "output_type": "stream",
     "text": [
      "                     Experience\n",
      "Metier                         \n",
      "Data architecte           3.000\n",
      "Data engineer             2.985\n",
      "Data scientist            2.241\n",
      "Lead data scientist       3.965\n"
     ]
    }
   ],
   "source": [
    "print(round(df.groupby('Metier').mean(),3))"
   ]
  },
  {
   "cell_type": "markdown",
   "metadata": {},
   "source": [
    "### 5) Faire la représentation graphique de votre choix afin de comparer le nombre moyen d'années d'expériences pour chaque métier"
   ]
  },
  {
   "cell_type": "code",
   "execution_count": 131,
   "metadata": {},
   "outputs": [
    {
     "data": {
      "text/plain": [
       "Text(0.5, 1.0, \"Représentation du nombre d'année d'expérience par métier\")"
      ]
     },
     "execution_count": 131,
     "metadata": {},
     "output_type": "execute_result"
    },
    {
     "data": {
      "image/png": "[encoded data removed]",
      "text/plain": [
       "<Figure size 1152x648 with 1 Axes>"
      ]
     },
     "metadata": {},
     "output_type": "display_data"
    }
   ],
   "source": [
    "plt.figure(figsize=(16, 9))\n",
    "b =  sb.boxplot(x=\"Metier\", y=\"Experience\",\n",
    "            hue=\"Metier\", data=df, palette=\"Set1\")\n",
    "\n",
    "b.axes.set_xlabel(\"Metier\",fontsize=18)\n",
    "b.axes.set_ylabel(\"Experience\",fontsize=18)\n",
    "b.axes.set_title(\"Représentation du nombre d'année d'expérience par métier\",fontsize=18)"
   ]
  },
  {
   "cell_type": "markdown",
   "metadata": {},
   "source": [
    "### 6) Transformer la variable continue 'Experience' en une nouvelle variable catégorielle 'Exp_label' à 4 modalités: débutant, confirmé, avancé et expert\n",
    "- Veuillez expliquer votre choix du règle de transformation.  "
   ]
  },
  {
   "cell_type": "markdown",
   "metadata": {},
   "source": [
    "**Step 1: Imputation of `Experience` missing values**"
   ]
  },
  {
   "cell_type": "markdown",
   "metadata": {},
   "source": [
    "Sum of the raaining missing values"
   ]
  },
  {
   "cell_type": "code",
   "execution_count": 132,
   "metadata": {},
   "outputs": [
    {
     "data": {
      "text/plain": [
       "42"
      ]
     },
     "execution_count": 132,
     "metadata": {},
     "output_type": "execute_result"
    }
   ],
   "source": [
    "df['Experience'].isna().sum()"
   ]
  },
  {
   "cell_type": "markdown",
   "metadata": {},
   "source": [
    "The experiences' missing velues associated to data architect and lead data scientist are going to be impute by the mean value of this category."
   ]
  },
  {
   "cell_type": "code",
   "execution_count": 133,
   "metadata": {},
   "outputs": [
    {
     "data": {
      "text/plain": [
       "\"There are 23 'experience' missing values for data architecte.\""
      ]
     },
     "execution_count": 133,
     "metadata": {},
     "output_type": "execute_result"
    }
   ],
   "source": [
    "ExpDA = df['Experience'][df['Metier'] == 'Data architecte']\n",
    "MeanExpDA = ExpDA.mean(axis=0, skipna=True)\n",
    "'The meadian experience for data scientists is equal to {}'.format(MeanExpDE)\n",
    "\"There are {} 'experience' missing values for data architecte.\".format(df[\"Experience\"][df[\"Metier\"] == 'Data architecte'].isna().sum())"
   ]
  },
  {
   "cell_type": "code",
   "execution_count": 134,
   "metadata": {},
   "outputs": [],
   "source": [
    "IndexMissingValuesDA  = list(df[df['Metier'] == 'Data architecte'].loc[df['Experience'].isnull(),'Experience'].index)\n",
    "df.iloc[IndexMissingValuesDA, 4] =  MeanExpDA"
   ]
  },
  {
   "cell_type": "code",
   "execution_count": 135,
   "metadata": {},
   "outputs": [
    {
     "data": {
      "text/plain": [
       "\"There are 19 'experience' missing values for data architecte.\""
      ]
     },
     "execution_count": 135,
     "metadata": {},
     "output_type": "execute_result"
    }
   ],
   "source": [
    "ExpLDS = df['Experience'][df['Metier'] == 'Lead data scientist']\n",
    "MeanExpLDS = ExpLDS.mean(axis=0, skipna=True)\n",
    "'The meadian experience for data scientists is equal to {}'.format(MeanExpLDS)\n",
    "\"There are {} 'experience' missing values for data architecte.\".format(df[\"Experience\"][df[\"Metier\"] == 'Lead data scientist'].isna().sum())"
   ]
  },
  {
   "cell_type": "code",
   "execution_count": 136,
   "metadata": {},
   "outputs": [],
   "source": [
    "IndexMissingValuesLDS  = list(df[df['Metier'] == 'Lead data scientist'].loc[df['Experience'].isnull(),'Experience'].index)\n",
    "df.iloc[IndexMissingValuesLDS , 4] =  MeanExpLDS"
   ]
  },
  {
   "cell_type": "markdown",
   "metadata": {},
   "source": [
    "**Step 2: Imputation of `Metier` missing values**"
   ]
  },
  {
   "cell_type": "markdown",
   "metadata": {},
   "source": [
    "Substitute missing values in the column `Metier` by \"Unknown\":"
   ]
  },
  {
   "cell_type": "code",
   "execution_count": 137,
   "metadata": {},
   "outputs": [
    {
     "data": {
      "text/plain": [
       "19"
      ]
     },
     "execution_count": 137,
     "metadata": {},
     "output_type": "execute_result"
    }
   ],
   "source": [
    "df['Metier'].isna().sum()"
   ]
  },
  {
   "cell_type": "code",
   "execution_count": 138,
   "metadata": {},
   "outputs": [],
   "source": [
    "df['Metier'] = df['Metier'].fillna('Unknown')"
   ]
  },
  {
   "cell_type": "markdown",
   "metadata": {},
   "source": [
    "**Step 3: Filling of `Exp_label` column**"
   ]
  },
  {
   "cell_type": "markdown",
   "metadata": {},
   "source": [
    "Brouillon pour Aury:\n",
    "* Nous calculons les 3 premiers quantiles (.25, .5 et .75)par métier,\n",
    "* Et nous associons les catégories selon la règle suivante:\n",
    "   * If Exp < quantile(0.25) => Exp_label = Débutant\n",
    "   * Elif  Exp in [quantile(0.25), quantile(0.5)) = Confirmé\n",
    "   \n",
    "   * Elif Exp in [quantile(0.5), quantile(0.75)) = Avancé\n",
    "   \n",
    "   * Else Exp >= quantile(0.75) = Expert"
   ]
  },
  {
   "cell_type": "markdown",
   "metadata": {},
   "source": [
    "Creation of an empty column named 'Exp_label':"
   ]
  },
  {
   "cell_type": "code",
   "execution_count": 139,
   "metadata": {},
   "outputs": [],
   "source": [
    "df['Exp_label'] = np.nan"
   ]
  },
  {
   "cell_type": "code",
   "execution_count": 140,
   "metadata": {},
   "outputs": [
    {
     "data": {
      "text/plain": [
       "\"MetierL= list(set(df['Metier']))\\nquantile_label = {0.25:'debutant', 0.5:'confirme', 0.75:'avance', 0.76:'expert'}\\nfor i in MetierL:\\n    for ql in quantile_label:\\n        if ql <= 0.75:\\n            ind = list(df[(df['Metier'] == i) & (df['Exp_label'].isna())].loc[df['Experience'] < df['Experience'].quantile(q=ql),'Experience'].index)\\n            df.iloc[ind , 6] = quantile_label[ql]\\n        else: # Expert class\\n            ind = list(df[(df['Metier'] == i) & (df['Exp_label'].isna())].index)\\n            df.iloc[ind , 6] = quantile_label[ql]\""
      ]
     },
     "execution_count": 140,
     "metadata": {},
     "output_type": "execute_result"
    }
   ],
   "source": [
    "\"\"\"MetierL= list(set(df['Metier']))\n",
    "quantile_label = {0.25:'debutant', 0.5:'confirme', 0.75:'avance', 0.76:'expert'}\n",
    "for i in MetierL:\n",
    "    for ql in quantile_label:\n",
    "        if ql <= 0.75:\n",
    "            ind = list(df[(df['Metier'] == i) & (df['Exp_label'].isna())].loc[df['Experience'] < df['Experience'].quantile(q=ql),'Experience'].index)\n",
    "            df.iloc[ind , 6] = quantile_label[ql]\n",
    "        else: # Expert class\n",
    "            ind = list(df[(df['Metier'] == i) & (df['Exp_label'].isna())].index)\n",
    "            df.iloc[ind , 6] = quantile_label[ql]\"\"\""
   ]
  },
  {
   "cell_type": "code",
   "execution_count": 141,
   "metadata": {},
   "outputs": [],
   "source": [
    "quantile_label = {0.25:'debutant', 0.5:'confirme', 0.75:'avance', 0.76:'expert'}\n",
    "for ql in quantile_label:\n",
    "    if ql <= 0.75:\n",
    "        ind = list(df[(df['Exp_label'].isna())].loc[df['Experience'] < df['Experience'].quantile(q=ql),'Experience'].index)\n",
    "        df.iloc[ind , 6] = quantile_label[ql]\n",
    "    else: # Expert class\n",
    "        ind = list(df[(df['Exp_label'].isna())].index)\n",
    "        df.iloc[ind , 6] = quantile_label[ql]"
   ]
  },
  {
   "cell_type": "markdown",
   "metadata": {},
   "source": [
    "**Step 4: Représentation graphique**"
   ]
  },
  {
   "cell_type": "code",
   "execution_count": 142,
   "metadata": {},
   "outputs": [
    {
     "data": {
      "text/plain": [
       "Text(0.5, 1.0, \"Répartion des niveaux d'expériece par métier\")"
      ]
     },
     "execution_count": 142,
     "metadata": {},
     "output_type": "execute_result"
    },
    {
     "data": {
      "image/png": "[encoded data removed]",
      "text/plain": [
       "<Figure size 1152x648 with 1 Axes>"
      ]
     },
     "metadata": {},
     "output_type": "display_data"
    }
   ],
   "source": [
    "plt.figure(figsize=(16, 9))\n",
    "b =  sb.countplot( x=\"Exp_label\", hue=\"Metier\", data=df, palette=\"Set1\")\n",
    "\n",
    "b.axes.set_xlabel(\"Expérience label\",fontsize=18)\n",
    "b.axes.set_ylabel(\"Count\",fontsize=18)\n",
    "b.axes.set_title(\"Répartion des niveaux d'expériece par métier\",fontsize=18)"
   ]
  },
  {
   "cell_type": "markdown",
   "metadata": {},
   "source": [
    "### 7) Quelles sont les 5 technologies les plus utilisées? Faites un graphique"
   ]
  },
  {
   "cell_type": "code",
   "execution_count": null,
   "metadata": {},
   "outputs": [],
   "source": []
  },
  {
   "cell_type": "markdown",
   "metadata": {},
   "source": [
    "### 8) Réaliser une méthode de clustering non supervisée de votre choix pour faire apparaître 2 clusters que vous jugerez pertinents. Donnez les caractéristiques de chacun des clusters.\n",
    "-  Justifier la performance de votre algorithme grace à une métrique.\n",
    "-  Interpréter votre resultat.  "
   ]
  },
  {
   "cell_type": "code",
   "execution_count": 143,
   "metadata": {},
   "outputs": [],
   "source": [
    "s = pd.Series(list(df['Entreprise']))\n",
    "one_hot_encoding_entreprise = pd.get_dummies(s)\n",
    "one_hot_encoding_entreprise.shape\n",
    "indexL = []\n",
    "one_hot_encoding_entreprise.sum(axis=1)\n",
    "for i in range(one_hot_encoding_entreprise.shape[1]):\n",
    "    if one_hot_encoding_entreprise.iloc[:,i].sum() < 30:\n",
    "        indexL.append(i)\n",
    "one_hot_encoding_entreprise = one_hot_encoding_entreprise.drop(one_hot_encoding_entreprise.columns[indexL], axis=1)"
   ]
  },
  {
   "cell_type": "code",
   "execution_count": 144,
   "metadata": {},
   "outputs": [],
   "source": [
    "# technologie\n",
    "Ltechno = []\n",
    "techno = df['Technologies']\n",
    "for i in range(len(techno)):\n",
    "    v = re.split('/', techno[i], flags=re.IGNORECASE)\n",
    "    for i in range(len(v)):\n",
    "        Ltechno.append(v[i])\n",
    "set_Techno = list(set(Ltechno))\n",
    "set_Techno = set_Techno[1:len(set_Techno)] # Remove the empty techno\n",
    "\n",
    "MTechno = np.zeros((df.shape[0], len(set_Techno)))\n",
    "dfTechno = pd.DataFrame(MTechno)"
   ]
  },
  {
   "cell_type": "code",
   "execution_count": 145,
   "metadata": {},
   "outputs": [],
   "source": [
    "for i in range(len(set_Techno)):\n",
    "    for j in range(df.shape[0]):\n",
    "        if df['Technologies'][j].find(set_Techno[i]) != -1:\n",
    "            dfTechno.iloc[j,i] = 1"
   ]
  },
  {
   "cell_type": "code",
   "execution_count": 146,
   "metadata": {},
   "outputs": [
    {
     "data": {
      "text/plain": [
       "['Python',\n",
       " 'Machine learning',\n",
       " '',\n",
       " 'HBASE',\n",
       " 'Windows',\n",
       " 'Perl',\n",
       " 'MySQL',\n",
       " 'Scikit-learn',\n",
       " 'Deep learning',\n",
       " 'C',\n",
       " 'R',\n",
       " 'Matlab',\n",
       " 'SQL',\n",
       " 'Spark',\n",
       " 'Kafka',\n",
       " 'Pycharm',\n",
       " 'Java',\n",
       " 'PySpark',\n",
       " 'NoSQ',\n",
       " 'Anglais',\n",
       " 'PIG',\n",
       " 'Hive',\n",
       " 'anglais',\n",
       " 'scikit-learn',\n",
       " 'Hadoop',\n",
       " 'Elasticsearch',\n",
       " 'MariaDB',\n",
       " 'AI',\n",
       " 'Tableau',\n",
       " 'NoSQL',\n",
       " 'Scala',\n",
       " 'Kibana',\n",
       " 'AWS',\n",
       " 'Teradata',\n",
       " 'VBA',\n",
       " 'C++',\n",
       " 'numpy',\n",
       " 'SAS',\n",
       " 'Docker',\n",
       " 'ORACLE',\n",
       " 'Tensorflow',\n",
       " 'HDFS',\n",
       " 'Excel',\n",
       " 'Redshift',\n",
       " 'Scoring',\n",
       " 'Vertica',\n",
       " 'PostgreSQL',\n",
       " 'SPSS',\n",
       " 'Linux',\n",
       " 'MongoDB',\n",
       " 'Map-Reduce',\n",
       " 'Pyspark',\n",
       " 'machine learning',\n",
       " 'GNU',\n",
       " 'Cassandra',\n",
       " 'Matplotlib',\n",
       " 'Ruby',\n",
       " 'Big data',\n",
       " 'Hadoop(HDFS)',\n",
       " 'Yarn',\n",
       " 'Microsoft Azure']"
      ]
     },
     "execution_count": 146,
     "metadata": {},
     "output_type": "execute_result"
    }
   ],
   "source": [
    "list(set(Ltechno))"
   ]
  },
  {
   "cell_type": "code",
   "execution_count": 147,
   "metadata": {},
   "outputs": [],
   "source": [
    "dfTechno.columns =  list(set(Ltechno))[1:]"
   ]
  },
  {
   "cell_type": "code",
   "execution_count": 148,
   "metadata": {},
   "outputs": [
    {
     "data": {
      "text/html": [
       "<div>\n",
       "<style scoped>\n",
       "    .dataframe tbody tr th:only-of-type {\n",
       "        vertical-align: middle;\n",
       "    }\n",
       "\n",
       "    .dataframe tbody tr th {\n",
       "        vertical-align: top;\n",
       "    }\n",
       "\n",
       "    .dataframe thead th {\n",
       "        text-align: right;\n",
       "    }\n",
       "</style>\n",
       "<table border=\"1\" class=\"dataframe\">\n",
       "  <thead>\n",
       "    <tr style=\"text-align: right;\">\n",
       "      <th></th>\n",
       "      <th>Machine learning</th>\n",
       "      <th></th>\n",
       "      <th>HBASE</th>\n",
       "      <th>Windows</th>\n",
       "      <th>Perl</th>\n",
       "      <th>MySQL</th>\n",
       "      <th>Scikit-learn</th>\n",
       "      <th>Deep learning</th>\n",
       "      <th>C</th>\n",
       "      <th>R</th>\n",
       "      <th>...</th>\n",
       "      <th>Pyspark</th>\n",
       "      <th>machine learning</th>\n",
       "      <th>GNU</th>\n",
       "      <th>Cassandra</th>\n",
       "      <th>Matplotlib</th>\n",
       "      <th>Ruby</th>\n",
       "      <th>Big data</th>\n",
       "      <th>Hadoop(HDFS)</th>\n",
       "      <th>Yarn</th>\n",
       "      <th>Microsoft Azure</th>\n",
       "    </tr>\n",
       "  </thead>\n",
       "  <tbody>\n",
       "    <tr>\n",
       "      <th>0</th>\n",
       "      <td>0.0</td>\n",
       "      <td>1.0</td>\n",
       "      <td>0.0</td>\n",
       "      <td>0.0</td>\n",
       "      <td>0.0</td>\n",
       "      <td>0.0</td>\n",
       "      <td>1.0</td>\n",
       "      <td>0.0</td>\n",
       "      <td>0.0</td>\n",
       "      <td>0.0</td>\n",
       "      <td>...</td>\n",
       "      <td>1.0</td>\n",
       "      <td>0.0</td>\n",
       "      <td>0.0</td>\n",
       "      <td>0.0</td>\n",
       "      <td>0.0</td>\n",
       "      <td>0.0</td>\n",
       "      <td>0.0</td>\n",
       "      <td>0.0</td>\n",
       "      <td>0.0</td>\n",
       "      <td>0.0</td>\n",
       "    </tr>\n",
       "    <tr>\n",
       "      <th>1</th>\n",
       "      <td>0.0</td>\n",
       "      <td>1.0</td>\n",
       "      <td>0.0</td>\n",
       "      <td>0.0</td>\n",
       "      <td>0.0</td>\n",
       "      <td>0.0</td>\n",
       "      <td>0.0</td>\n",
       "      <td>0.0</td>\n",
       "      <td>0.0</td>\n",
       "      <td>0.0</td>\n",
       "      <td>...</td>\n",
       "      <td>0.0</td>\n",
       "      <td>0.0</td>\n",
       "      <td>0.0</td>\n",
       "      <td>0.0</td>\n",
       "      <td>0.0</td>\n",
       "      <td>0.0</td>\n",
       "      <td>0.0</td>\n",
       "      <td>0.0</td>\n",
       "      <td>0.0</td>\n",
       "      <td>0.0</td>\n",
       "    </tr>\n",
       "    <tr>\n",
       "      <th>2</th>\n",
       "      <td>0.0</td>\n",
       "      <td>1.0</td>\n",
       "      <td>0.0</td>\n",
       "      <td>0.0</td>\n",
       "      <td>0.0</td>\n",
       "      <td>0.0</td>\n",
       "      <td>0.0</td>\n",
       "      <td>0.0</td>\n",
       "      <td>0.0</td>\n",
       "      <td>1.0</td>\n",
       "      <td>...</td>\n",
       "      <td>0.0</td>\n",
       "      <td>0.0</td>\n",
       "      <td>0.0</td>\n",
       "      <td>0.0</td>\n",
       "      <td>0.0</td>\n",
       "      <td>0.0</td>\n",
       "      <td>0.0</td>\n",
       "      <td>0.0</td>\n",
       "      <td>0.0</td>\n",
       "      <td>0.0</td>\n",
       "    </tr>\n",
       "    <tr>\n",
       "      <th>3</th>\n",
       "      <td>0.0</td>\n",
       "      <td>1.0</td>\n",
       "      <td>0.0</td>\n",
       "      <td>0.0</td>\n",
       "      <td>0.0</td>\n",
       "      <td>0.0</td>\n",
       "      <td>0.0</td>\n",
       "      <td>0.0</td>\n",
       "      <td>1.0</td>\n",
       "      <td>0.0</td>\n",
       "      <td>...</td>\n",
       "      <td>0.0</td>\n",
       "      <td>0.0</td>\n",
       "      <td>0.0</td>\n",
       "      <td>0.0</td>\n",
       "      <td>0.0</td>\n",
       "      <td>0.0</td>\n",
       "      <td>0.0</td>\n",
       "      <td>0.0</td>\n",
       "      <td>0.0</td>\n",
       "      <td>0.0</td>\n",
       "    </tr>\n",
       "    <tr>\n",
       "      <th>4</th>\n",
       "      <td>0.0</td>\n",
       "      <td>1.0</td>\n",
       "      <td>0.0</td>\n",
       "      <td>0.0</td>\n",
       "      <td>0.0</td>\n",
       "      <td>0.0</td>\n",
       "      <td>0.0</td>\n",
       "      <td>0.0</td>\n",
       "      <td>1.0</td>\n",
       "      <td>0.0</td>\n",
       "      <td>...</td>\n",
       "      <td>0.0</td>\n",
       "      <td>0.0</td>\n",
       "      <td>0.0</td>\n",
       "      <td>0.0</td>\n",
       "      <td>0.0</td>\n",
       "      <td>0.0</td>\n",
       "      <td>0.0</td>\n",
       "      <td>0.0</td>\n",
       "      <td>0.0</td>\n",
       "      <td>0.0</td>\n",
       "    </tr>\n",
       "    <tr>\n",
       "      <th>...</th>\n",
       "      <td>...</td>\n",
       "      <td>...</td>\n",
       "      <td>...</td>\n",
       "      <td>...</td>\n",
       "      <td>...</td>\n",
       "      <td>...</td>\n",
       "      <td>...</td>\n",
       "      <td>...</td>\n",
       "      <td>...</td>\n",
       "      <td>...</td>\n",
       "      <td>...</td>\n",
       "      <td>...</td>\n",
       "      <td>...</td>\n",
       "      <td>...</td>\n",
       "      <td>...</td>\n",
       "      <td>...</td>\n",
       "      <td>...</td>\n",
       "      <td>...</td>\n",
       "      <td>...</td>\n",
       "      <td>...</td>\n",
       "      <td>...</td>\n",
       "    </tr>\n",
       "    <tr>\n",
       "      <th>9577</th>\n",
       "      <td>0.0</td>\n",
       "      <td>1.0</td>\n",
       "      <td>0.0</td>\n",
       "      <td>0.0</td>\n",
       "      <td>0.0</td>\n",
       "      <td>0.0</td>\n",
       "      <td>0.0</td>\n",
       "      <td>0.0</td>\n",
       "      <td>1.0</td>\n",
       "      <td>1.0</td>\n",
       "      <td>...</td>\n",
       "      <td>0.0</td>\n",
       "      <td>0.0</td>\n",
       "      <td>0.0</td>\n",
       "      <td>0.0</td>\n",
       "      <td>1.0</td>\n",
       "      <td>0.0</td>\n",
       "      <td>0.0</td>\n",
       "      <td>0.0</td>\n",
       "      <td>0.0</td>\n",
       "      <td>0.0</td>\n",
       "    </tr>\n",
       "    <tr>\n",
       "      <th>9578</th>\n",
       "      <td>0.0</td>\n",
       "      <td>1.0</td>\n",
       "      <td>0.0</td>\n",
       "      <td>0.0</td>\n",
       "      <td>0.0</td>\n",
       "      <td>0.0</td>\n",
       "      <td>0.0</td>\n",
       "      <td>0.0</td>\n",
       "      <td>0.0</td>\n",
       "      <td>1.0</td>\n",
       "      <td>...</td>\n",
       "      <td>0.0</td>\n",
       "      <td>1.0</td>\n",
       "      <td>0.0</td>\n",
       "      <td>0.0</td>\n",
       "      <td>0.0</td>\n",
       "      <td>0.0</td>\n",
       "      <td>0.0</td>\n",
       "      <td>0.0</td>\n",
       "      <td>0.0</td>\n",
       "      <td>0.0</td>\n",
       "    </tr>\n",
       "    <tr>\n",
       "      <th>9579</th>\n",
       "      <td>0.0</td>\n",
       "      <td>1.0</td>\n",
       "      <td>0.0</td>\n",
       "      <td>0.0</td>\n",
       "      <td>0.0</td>\n",
       "      <td>0.0</td>\n",
       "      <td>0.0</td>\n",
       "      <td>0.0</td>\n",
       "      <td>0.0</td>\n",
       "      <td>1.0</td>\n",
       "      <td>...</td>\n",
       "      <td>0.0</td>\n",
       "      <td>1.0</td>\n",
       "      <td>0.0</td>\n",
       "      <td>0.0</td>\n",
       "      <td>0.0</td>\n",
       "      <td>0.0</td>\n",
       "      <td>0.0</td>\n",
       "      <td>0.0</td>\n",
       "      <td>0.0</td>\n",
       "      <td>0.0</td>\n",
       "    </tr>\n",
       "    <tr>\n",
       "      <th>9580</th>\n",
       "      <td>0.0</td>\n",
       "      <td>1.0</td>\n",
       "      <td>0.0</td>\n",
       "      <td>0.0</td>\n",
       "      <td>0.0</td>\n",
       "      <td>0.0</td>\n",
       "      <td>0.0</td>\n",
       "      <td>0.0</td>\n",
       "      <td>0.0</td>\n",
       "      <td>0.0</td>\n",
       "      <td>...</td>\n",
       "      <td>1.0</td>\n",
       "      <td>1.0</td>\n",
       "      <td>0.0</td>\n",
       "      <td>0.0</td>\n",
       "      <td>0.0</td>\n",
       "      <td>0.0</td>\n",
       "      <td>0.0</td>\n",
       "      <td>0.0</td>\n",
       "      <td>0.0</td>\n",
       "      <td>1.0</td>\n",
       "    </tr>\n",
       "    <tr>\n",
       "      <th>9581</th>\n",
       "      <td>0.0</td>\n",
       "      <td>1.0</td>\n",
       "      <td>0.0</td>\n",
       "      <td>0.0</td>\n",
       "      <td>0.0</td>\n",
       "      <td>0.0</td>\n",
       "      <td>0.0</td>\n",
       "      <td>0.0</td>\n",
       "      <td>0.0</td>\n",
       "      <td>1.0</td>\n",
       "      <td>...</td>\n",
       "      <td>0.0</td>\n",
       "      <td>0.0</td>\n",
       "      <td>0.0</td>\n",
       "      <td>0.0</td>\n",
       "      <td>0.0</td>\n",
       "      <td>0.0</td>\n",
       "      <td>0.0</td>\n",
       "      <td>0.0</td>\n",
       "      <td>0.0</td>\n",
       "      <td>0.0</td>\n",
       "    </tr>\n",
       "  </tbody>\n",
       "</table>\n",
       "<p>9582 rows × 60 columns</p>\n",
       "</div>"
      ],
      "text/plain": [
       "      Machine learning       HBASE  Windows  Perl  MySQL  Scikit-learn  \\\n",
       "0                  0.0  1.0    0.0      0.0   0.0    0.0           1.0   \n",
       "1                  0.0  1.0    0.0      0.0   0.0    0.0           0.0   \n",
       "2                  0.0  1.0    0.0      0.0   0.0    0.0           0.0   \n",
       "3                  0.0  1.0    0.0      0.0   0.0    0.0           0.0   \n",
       "4                  0.0  1.0    0.0      0.0   0.0    0.0           0.0   \n",
       "...                ...  ...    ...      ...   ...    ...           ...   \n",
       "9577               0.0  1.0    0.0      0.0   0.0    0.0           0.0   \n",
       "9578               0.0  1.0    0.0      0.0   0.0    0.0           0.0   \n",
       "9579               0.0  1.0    0.0      0.0   0.0    0.0           0.0   \n",
       "9580               0.0  1.0    0.0      0.0   0.0    0.0           0.0   \n",
       "9581               0.0  1.0    0.0      0.0   0.0    0.0           0.0   \n",
       "\n",
       "      Deep learning    C    R  ...  Pyspark  machine learning  GNU  Cassandra  \\\n",
       "0               0.0  0.0  0.0  ...      1.0               0.0  0.0        0.0   \n",
       "1               0.0  0.0  0.0  ...      0.0               0.0  0.0        0.0   \n",
       "2               0.0  0.0  1.0  ...      0.0               0.0  0.0        0.0   \n",
       "3               0.0  1.0  0.0  ...      0.0               0.0  0.0        0.0   \n",
       "4               0.0  1.0  0.0  ...      0.0               0.0  0.0        0.0   \n",
       "...             ...  ...  ...  ...      ...               ...  ...        ...   \n",
       "9577            0.0  1.0  1.0  ...      0.0               0.0  0.0        0.0   \n",
       "9578            0.0  0.0  1.0  ...      0.0               1.0  0.0        0.0   \n",
       "9579            0.0  0.0  1.0  ...      0.0               1.0  0.0        0.0   \n",
       "9580            0.0  0.0  0.0  ...      1.0               1.0  0.0        0.0   \n",
       "9581            0.0  0.0  1.0  ...      0.0               0.0  0.0        0.0   \n",
       "\n",
       "      Matplotlib  Ruby  Big data  Hadoop(HDFS)  Yarn  Microsoft Azure  \n",
       "0            0.0   0.0       0.0           0.0   0.0              0.0  \n",
       "1            0.0   0.0       0.0           0.0   0.0              0.0  \n",
       "2            0.0   0.0       0.0           0.0   0.0              0.0  \n",
       "3            0.0   0.0       0.0           0.0   0.0              0.0  \n",
       "4            0.0   0.0       0.0           0.0   0.0              0.0  \n",
       "...          ...   ...       ...           ...   ...              ...  \n",
       "9577         1.0   0.0       0.0           0.0   0.0              0.0  \n",
       "9578         0.0   0.0       0.0           0.0   0.0              0.0  \n",
       "9579         0.0   0.0       0.0           0.0   0.0              0.0  \n",
       "9580         0.0   0.0       0.0           0.0   0.0              1.0  \n",
       "9581         0.0   0.0       0.0           0.0   0.0              0.0  \n",
       "\n",
       "[9582 rows x 60 columns]"
      ]
     },
     "execution_count": 148,
     "metadata": {},
     "output_type": "execute_result"
    }
   ],
   "source": [
    "dfTechno"
   ]
  },
  {
   "cell_type": "code",
   "execution_count": 149,
   "metadata": {},
   "outputs": [],
   "source": [
    "# metier \n",
    "df['Metier'] =  df['Metier'].fillna('Unknown')\n",
    "s_metier = pd.Series(list(df['Metier']))\n",
    "one_hot_encoding_metier = pd.get_dummies(s_metier)"
   ]
  },
  {
   "cell_type": "code",
   "execution_count": 150,
   "metadata": {},
   "outputs": [],
   "source": [
    "# Diplome \n",
    "s_diplome = pd.Series(list(df['Diplome']))\n",
    "one_hot_encoding_diplome = pd.get_dummies(s_diplome)"
   ]
  },
  {
   "cell_type": "code",
   "execution_count": 151,
   "metadata": {},
   "outputs": [],
   "source": [
    "# Experience\n",
    "s_experience = pd.Series(list(df['Exp_label']))\n",
    "one_hot_encoding_experience = pd.get_dummies(s_experience)"
   ]
  },
  {
   "cell_type": "code",
   "execution_count": 152,
   "metadata": {},
   "outputs": [],
   "source": [
    "# Ville\n",
    "s_ville = pd.Series(list(df['Ville']))\n",
    "one_hot_encoding_ville = pd.get_dummies(s_ville)"
   ]
  },
  {
   "cell_type": "code",
   "execution_count": 153,
   "metadata": {},
   "outputs": [],
   "source": [
    "# merge all data transform\n",
    "df_merge = pd.concat([one_hot_encoding_diplome, one_hot_encoding_entreprise,\n",
    "                    one_hot_encoding_ville, dfTechno, one_hot_encoding_metier ], axis=1) # ATTENTION !!!!"
   ]
  },
  {
   "cell_type": "markdown",
   "metadata": {},
   "source": [
    "### 9) Réaliser la prédiction des métiers manquants dans la base de données par l'algorithme de votre choix\n",
    "-  Justifier la performance de votre algorithme grace à une métrique.\n",
    "-  Interpréter votre resultat.  "
   ]
  },
  {
   "cell_type": "code",
   "execution_count": 154,
   "metadata": {},
   "outputs": [
    {
     "data": {
      "image/png": "[encoded data removed]",
      "text/plain": [
       "<Figure size 1152x648 with 1 Axes>"
      ]
     },
     "metadata": {},
     "output_type": "display_data"
    }
   ],
   "source": [
    "plt.figure(figsize=(16, 9))\n",
    "b =  sb.countplot( x=\"Ville\", hue= \"Metier\", data=df, palette=\"Set1\")"
   ]
  },
  {
   "cell_type": "markdown",
   "metadata": {},
   "source": [
    "Brouillon Aury:\n",
    "* On éimine une régression logistique car on ne peut pas déterminer sur des variables uniquement catégorielles si les données sont linéairement séparables \"Too many categorical variables are also a problem for logistic regression. \"\n",
    "\n",
    "* Decision Trees Pros:\n",
    "    * Intuitive Decision Rules\n",
    "       * Can handle non-linear features\n",
    "        * Take into account variable interactions\n",
    "    * Decision Trees Cons:\n",
    "        * Highly biased to training set [Random Forests to your rescue]\n",
    "        * No ranking score as direct result"
   ]
  },
  {
   "cell_type": "markdown",
   "metadata": {},
   "source": [
    "**Step 1: Data preprocessing**"
   ]
  },
  {
   "cell_type": "markdown",
   "metadata": {},
   "source": [
    "Replace categorial data by one hot encoding for the variable `entrepresie`, and eliminate each `compay` which has less than 30 employees. We can consider that these ones are not informative."
   ]
  },
  {
   "cell_type": "code",
   "execution_count": 155,
   "metadata": {},
   "outputs": [],
   "source": [
    "df_merge = pd.concat([one_hot_encoding_experience, df_merge], axis =1 ) # Add experience\n",
    "#Create separated a table with the individus linked to an unknown work and delete them from df_merge\n",
    "indexUnknown = df_merge[ df_merge['Unknown'] == 1 ].index\n",
    "dfUnknown = df_merge.iloc[indexUnknown , ]\n",
    "df_merge.drop(indexUnknown, inplace=True)\n"
   ]
  },
  {
   "cell_type": "code",
   "execution_count": 156,
   "metadata": {},
   "outputs": [],
   "source": [
    "df_merge = df_merge.iloc[: , :df_merge.shape[1] - 5]\n",
    "dfUnknown = dfUnknown.iloc[: , : dfUnknown.shape[1] - 5] # Delete the columns metier => Y"
   ]
  },
  {
   "cell_type": "markdown",
   "metadata": {},
   "source": [
    "Creation of the Y variable:"
   ]
  },
  {
   "cell_type": "code",
   "execution_count": 157,
   "metadata": {},
   "outputs": [],
   "source": [
    "dfMetierKnown =  df['Metier']\n",
    "IndexMissingMetier  = list(dfMetierKnown[dfMetierKnown == 'Unknown'].index)\n",
    "dfMetierKnown.drop(IndexMissingMetier  , inplace=True)"
   ]
  },
  {
   "cell_type": "code",
   "execution_count": 158,
   "metadata": {},
   "outputs": [
    {
     "data": {
      "text/plain": [
       "(9563, 131)"
      ]
     },
     "execution_count": 158,
     "metadata": {},
     "output_type": "execute_result"
    }
   ],
   "source": [
    "dfMetierKnown.shape\n",
    "df_merge.shape"
   ]
  },
  {
   "cell_type": "markdown",
   "metadata": {},
   "source": [
    "**Step2: Training and test set:**\n",
    "X_train, X_test, y_train, y_test = train_test_split(\n",
    "...     X, y, test_size=0.33, random_state=42)"
   ]
  },
  {
   "cell_type": "code",
   "execution_count": 159,
   "metadata": {},
   "outputs": [],
   "source": [
    "from sklearn.model_selection import train_test_split\n",
    "from sklearn.feature_selection import SelectKBest\n",
    "from sklearn.feature_selection import chi2"
   ]
  },
  {
   "cell_type": "code",
   "execution_count": 160,
   "metadata": {},
   "outputs": [],
   "source": [
    "X_train, X_test, y_train, y_test = train_test_split( df_merge , dfMetierKnown, test_size=0.33, random_state=42)"
   ]
  },
  {
   "cell_type": "markdown",
   "metadata": {},
   "source": [
    "**Variable selection:**"
   ]
  },
  {
   "cell_type": "code",
   "execution_count": 161,
   "metadata": {},
   "outputs": [],
   "source": [
    "fs = SelectKBest(score_func=chi2, k='all')\n",
    "fs.fit(X_train, y_train)\n",
    "X_train_fs = fs.transform(X_train)\n",
    "X_test_fs = fs.transform(X_test)"
   ]
  },
  {
   "cell_type": "code",
   "execution_count": 162,
   "metadata": {},
   "outputs": [
    {
     "name": "stdout",
     "output_type": "stream",
     "text": [
      "Feature 0: 132.467241\n",
      "Feature 1: 104.895525\n",
      "Feature 2: 149.895365\n",
      "Feature 3: 300.291057\n",
      "Feature 4: 57.579539\n",
      "Feature 5: 13.123476\n",
      "Feature 6: 491.068742\n",
      "Feature 7: 404.248727\n",
      "Feature 8: 1.500879\n",
      "Feature 9: 4.490248\n",
      "Feature 10: 5.791426\n",
      "Feature 11: 17.422081\n",
      "Feature 12: 84.366536\n",
      "Feature 13: 2.212107\n",
      "Feature 14: 33.481794\n",
      "Feature 15: 3.953293\n",
      "Feature 16: 6.987168\n",
      "Feature 17: 19.348062\n",
      "Feature 18: 48.039095\n",
      "Feature 19: 5.456343\n",
      "Feature 20: 2.183064\n",
      "Feature 21: 13.632936\n",
      "Feature 22: 10.544557\n",
      "Feature 23: 6.961628\n",
      "Feature 24: 6.233859\n",
      "Feature 25: 3.434285\n",
      "Feature 26: 7.922847\n",
      "Feature 27: 4.160805\n",
      "Feature 28: 9.611000\n",
      "Feature 29: 28.496328\n",
      "Feature 30: 3.296306\n",
      "Feature 31: 5.225002\n",
      "Feature 32: 2.404831\n",
      "Feature 33: 3.206276\n",
      "Feature 34: 8.581574\n",
      "Feature 35: 3.259150\n",
      "Feature 36: 4.165732\n",
      "Feature 37: 10.541330\n",
      "Feature 38: 3.790705\n",
      "Feature 39: 4.020175\n",
      "Feature 40: 4.772655\n",
      "Feature 41: 6.316098\n",
      "Feature 42: 6.583508\n",
      "Feature 43: 0.219646\n",
      "Feature 44: 5.815056\n",
      "Feature 45: 4.608563\n",
      "Feature 46: 10.098698\n",
      "Feature 47: 13.851963\n",
      "Feature 48: 8.254831\n",
      "Feature 49: 11.312532\n",
      "Feature 50: 0.546652\n",
      "Feature 51: 7.728069\n",
      "Feature 52: 5.806460\n",
      "Feature 53: 3.233094\n",
      "Feature 54: 10.301013\n",
      "Feature 55: 4.737127\n",
      "Feature 56: 2.238752\n",
      "Feature 57: 2.137041\n",
      "Feature 58: 10.588200\n",
      "Feature 59: 1.033183\n",
      "Feature 60: 0.332130\n",
      "Feature 61: 5.104218\n",
      "Feature 62: 3.894982\n",
      "Feature 63: 2.979821\n",
      "Feature 64: 0.790352\n",
      "Feature 65: 3.458638\n",
      "Feature 66: 2.743358\n",
      "Feature 67: 2.030343\n",
      "Feature 68: 3.144840\n",
      "Feature 69: 1.948316\n",
      "Feature 70: 0.317429\n",
      "Feature 71: 386.137540\n",
      "Feature 72: 0.000000\n",
      "Feature 73: 321.790652\n",
      "Feature 74: 165.566667\n",
      "Feature 75: 60.150048\n",
      "Feature 76: 209.163924\n",
      "Feature 77: 179.914556\n",
      "Feature 78: 191.942614\n",
      "Feature 79: 84.539983\n",
      "Feature 80: 1875.331064\n",
      "Feature 81: 508.091721\n",
      "Feature 82: 344.981069\n",
      "Feature 83: 138.785294\n",
      "Feature 84: 582.932639\n",
      "Feature 85: 130.296523\n",
      "Feature 86: 653.138215\n",
      "Feature 87: 85.448051\n",
      "Feature 88: 52.659973\n",
      "Feature 89: 386.137540\n",
      "Feature 90: 321.790652\n",
      "Feature 91: 313.906792\n",
      "Feature 92: 82.970483\n",
      "Feature 93: 332.619918\n",
      "Feature 94: 461.184560\n",
      "Feature 95: 626.461556\n",
      "Feature 96: 717.593153\n",
      "Feature 97: 168.993547\n",
      "Feature 98: 569.135417\n",
      "Feature 99: 113.377627\n",
      "Feature 100: 224.756457\n",
      "Feature 101: 564.383965\n",
      "Feature 102: 1255.750623\n",
      "Feature 103: 424.647409\n",
      "Feature 104: 611.288405\n",
      "Feature 105: 282.670059\n",
      "Feature 106: 82.279330\n",
      "Feature 107: 550.816140\n",
      "Feature 108: 742.978119\n",
      "Feature 109: 209.163924\n",
      "Feature 110: 577.788595\n",
      "Feature 111: 509.145339\n",
      "Feature 112: 851.100255\n",
      "Feature 113: 289.741667\n",
      "Feature 114: 168.993547\n",
      "Feature 115: 569.135417\n",
      "Feature 116: 444.071099\n",
      "Feature 117: 236.832105\n",
      "Feature 118: 1120.641157\n",
      "Feature 119: 629.955740\n",
      "Feature 120: 321.790652\n",
      "Feature 121: 102.414893\n",
      "Feature 122: 596.412686\n",
      "Feature 123: 921.155860\n",
      "Feature 124: 217.688866\n",
      "Feature 125: 164.270056\n",
      "Feature 126: 67.576037\n",
      "Feature 127: 525.096660\n",
      "Feature 128: 217.306250\n",
      "Feature 129: 395.802502\n",
      "Feature 130: 195.989986\n"
     ]
    },
    {
     "data": {
      "text/plain": [
       "<BarContainer object of 131 artists>"
      ]
     },
     "execution_count": 162,
     "metadata": {},
     "output_type": "execute_result"
    },
    {
     "data": {
      "image/png": "[encoded data removed]",
      "text/plain": [
       "<Figure size 1152x648 with 1 Axes>"
      ]
     },
     "metadata": {},
     "output_type": "display_data"
    }
   ],
   "source": [
    "for i in range(len(fs.scores_)):\n",
    "    print('Feature %d: %f' % (i, fs.scores_[i]))\n",
    "\n",
    "plt.figure(figsize=(16, 9))\n",
    "plt.bar([i for i in range(len(fs.scores_))], fs.scores_)\n"
   ]
  },
  {
   "cell_type": "code",
   "execution_count": 163,
   "metadata": {},
   "outputs": [],
   "source": [
    "fsScore  =  pd.DataFrame( fs.scores_)\n",
    "ThresholdScore = fsScore.iloc[:,0].quantile(0.7)"
   ]
  },
  {
   "cell_type": "code",
   "execution_count": 164,
   "metadata": {},
   "outputs": [],
   "source": [
    "IndexKeptFeatures = fsScore[fsScore.iloc[:,0] > ThresholdScore].index"
   ]
  },
  {
   "cell_type": "code",
   "execution_count": 165,
   "metadata": {},
   "outputs": [],
   "source": [
    "X_train_s = X_train.iloc[:, IndexKeptFeatures]\n",
    "X_test_s = X_test.iloc[:, IndexKeptFeatures] \n",
    "dfUnknown = dfUnknown.iloc[:, IndexKeptFeatures]"
   ]
  },
  {
   "cell_type": "code",
   "execution_count": 166,
   "metadata": {},
   "outputs": [
    {
     "name": "stdout",
     "output_type": "stream",
     "text": [
      "(6407, 39)\n",
      "(19, 39)\n"
     ]
    }
   ],
   "source": [
    "print(X_train_s.shape)\n",
    "X_test_s.shape\n",
    "print(dfUnknown.shape)"
   ]
  },
  {
   "cell_type": "code",
   "execution_count": 167,
   "metadata": {},
   "outputs": [
    {
     "data": {
      "text/plain": [
       "Index(['expert', 'No diploma', 'Phd', 'Machine learning', 'HBASE', 'R',\n",
       "       'Matlab', 'SQL', 'Kafka', 'Java', 'Anglais', 'PIG', 'Hive',\n",
       "       'scikit-learn', 'Hadoop', 'Elasticsearch', 'MariaDB', 'Tableau',\n",
       "       'Kibana', 'AWS', 'Teradata', 'VBA', 'C++', 'SAS', 'Docker',\n",
       "       'Tensorflow', 'HDFS', 'Excel', 'Redshift', 'Vertica', 'PostgreSQL',\n",
       "       'SPSS', 'Linux', 'MongoDB', 'Map-Reduce', 'machine learning', 'GNU',\n",
       "       'Big data', 'Yarn'],\n",
       "      dtype='object')"
      ]
     },
     "execution_count": 167,
     "metadata": {},
     "output_type": "execute_result"
    }
   ],
   "source": [
    "df_merge.columns[IndexKeptFeatures]"
   ]
  },
  {
   "cell_type": "markdown",
   "metadata": {},
   "source": [
    "**ExtraTreesClassifier**"
   ]
  },
  {
   "cell_type": "code",
   "execution_count": 168,
   "metadata": {},
   "outputs": [],
   "source": [
    "from sklearn.ensemble import ExtraTreesClassifier"
   ]
  },
  {
   "cell_type": "code",
   "execution_count": 169,
   "metadata": {},
   "outputs": [],
   "source": [
    "clf = ExtraTreesClassifier(n_estimators=500)"
   ]
  },
  {
   "cell_type": "code",
   "execution_count": 170,
   "metadata": {},
   "outputs": [
    {
     "data": {
      "text/plain": [
       "ExtraTreesClassifier(bootstrap=False, class_weight=None, criterion='gini',\n",
       "                     max_depth=None, max_features='auto', max_leaf_nodes=None,\n",
       "                     min_impurity_decrease=0.0, min_impurity_split=None,\n",
       "                     min_samples_leaf=1, min_samples_split=2,\n",
       "                     min_weight_fraction_leaf=0.0, n_estimators=500,\n",
       "                     n_jobs=None, oob_score=False, random_state=None, verbose=0,\n",
       "                     warm_start=False)"
      ]
     },
     "execution_count": 170,
     "metadata": {},
     "output_type": "execute_result"
    }
   ],
   "source": [
    "clf.fit(X_train_s, y_train)"
   ]
  },
  {
   "cell_type": "code",
   "execution_count": 171,
   "metadata": {},
   "outputs": [],
   "source": [
    "y_pred = clf.predict(X_test_s)"
   ]
  },
  {
   "cell_type": "code",
   "execution_count": 172,
   "metadata": {},
   "outputs": [
    {
     "data": {
      "text/plain": [
       "array(['Data engineer', 'Data engineer', 'Data scientist', ...,\n",
       "       'Data scientist', 'Data architecte', 'Data architecte'],\n",
       "      dtype=object)"
      ]
     },
     "execution_count": 172,
     "metadata": {},
     "output_type": "execute_result"
    }
   ],
   "source": [
    "y_pred"
   ]
  },
  {
   "cell_type": "code",
   "execution_count": 173,
   "metadata": {},
   "outputs": [
    {
     "data": {
      "text/plain": [
       "9019          Data engineer\n",
       "5035          Data engineer\n",
       "1143         Data scientist\n",
       "1356         Data scientist\n",
       "8755    Lead data scientist\n",
       "               ...         \n",
       "1098         Data scientist\n",
       "549           Data engineer\n",
       "8144    Lead data scientist\n",
       "6345        Data architecte\n",
       "4627        Data architecte\n",
       "Name: Metier, Length: 3156, dtype: object"
      ]
     },
     "execution_count": 173,
     "metadata": {},
     "output_type": "execute_result"
    }
   ],
   "source": [
    "y_test"
   ]
  },
  {
   "cell_type": "code",
   "execution_count": 174,
   "metadata": {},
   "outputs": [],
   "source": [
    "prec = float(np.sum(y_pred == y_test)) / len(y_test)"
   ]
  },
  {
   "cell_type": "code",
   "execution_count": 175,
   "metadata": {},
   "outputs": [
    {
     "data": {
      "text/plain": [
       "0.8757921419518377"
      ]
     },
     "execution_count": 175,
     "metadata": {},
     "output_type": "execute_result"
    }
   ],
   "source": [
    "prec"
   ]
  },
  {
   "cell_type": "code",
   "execution_count": 177,
   "metadata": {},
   "outputs": [],
   "source": [
    "Metier_MISSING_ETC = clf.predict(dfUnknown)"
   ]
  },
  {
   "cell_type": "markdown",
   "metadata": {},
   "source": [
    "**Random Forest**"
   ]
  },
  {
   "cell_type": "code",
   "execution_count": 178,
   "metadata": {},
   "outputs": [],
   "source": [
    "from sklearn.ensemble import RandomForestClassifier"
   ]
  },
  {
   "cell_type": "code",
   "execution_count": 179,
   "metadata": {},
   "outputs": [
    {
     "data": {
      "text/plain": [
       "RandomForestClassifier(bootstrap=True, class_weight=None, criterion='gini',\n",
       "                       max_depth=None, max_features='auto', max_leaf_nodes=None,\n",
       "                       min_impurity_decrease=0.0, min_impurity_split=None,\n",
       "                       min_samples_leaf=1, min_samples_split=50,\n",
       "                       min_weight_fraction_leaf=0.0, n_estimators=500,\n",
       "                       n_jobs=None, oob_score=False, random_state=0, verbose=0,\n",
       "                       warm_start=False)"
      ]
     },
     "execution_count": 179,
     "metadata": {},
     "output_type": "execute_result"
    }
   ],
   "source": [
    "clf = RandomForestClassifier(n_estimators = 500, min_samples_split = 50 , random_state=0)\n",
    "clf.fit(X_train_s, y_train)"
   ]
  },
  {
   "cell_type": "code",
   "execution_count": 180,
   "metadata": {},
   "outputs": [],
   "source": [
    "y_pred = clf.predict(X_test_s)"
   ]
  },
  {
   "cell_type": "code",
   "execution_count": 181,
   "metadata": {},
   "outputs": [
    {
     "data": {
      "text/plain": [
       "9019          Data engineer\n",
       "5035          Data engineer\n",
       "1143         Data scientist\n",
       "1356         Data scientist\n",
       "8755    Lead data scientist\n",
       "               ...         \n",
       "1098         Data scientist\n",
       "549           Data engineer\n",
       "8144    Lead data scientist\n",
       "6345        Data architecte\n",
       "4627        Data architecte\n",
       "Name: Metier, Length: 3156, dtype: object"
      ]
     },
     "execution_count": 181,
     "metadata": {},
     "output_type": "execute_result"
    }
   ],
   "source": [
    "y_test"
   ]
  },
  {
   "cell_type": "code",
   "execution_count": 182,
   "metadata": {},
   "outputs": [],
   "source": [
    "prec = float(np.sum(y_pred == y_test)) / len(y_test)"
   ]
  },
  {
   "cell_type": "code",
   "execution_count": 183,
   "metadata": {},
   "outputs": [
    {
     "data": {
      "text/plain": [
       "0.8783269961977186"
      ]
     },
     "execution_count": 183,
     "metadata": {},
     "output_type": "execute_result"
    }
   ],
   "source": [
    "prec"
   ]
  },
  {
   "cell_type": "code",
   "execution_count": 184,
   "metadata": {},
   "outputs": [],
   "source": [
    "Metier_MISSING_RF = clf.predict(dfUnknown)"
   ]
  },
  {
   "cell_type": "markdown",
   "metadata": {},
   "source": [
    "**KNN**"
   ]
  },
  {
   "cell_type": "code",
   "execution_count": 185,
   "metadata": {},
   "outputs": [],
   "source": [
    "from sklearn.neighbors import KNeighborsClassifier"
   ]
  },
  {
   "cell_type": "code",
   "execution_count": 186,
   "metadata": {},
   "outputs": [],
   "source": [
    "neigh = KNeighborsClassifier(n_neighbors=120)"
   ]
  },
  {
   "cell_type": "code",
   "execution_count": 187,
   "metadata": {},
   "outputs": [
    {
     "data": {
      "text/plain": [
       "KNeighborsClassifier(algorithm='auto', leaf_size=30, metric='minkowski',\n",
       "                     metric_params=None, n_jobs=None, n_neighbors=120, p=2,\n",
       "                     weights='uniform')"
      ]
     },
     "execution_count": 187,
     "metadata": {},
     "output_type": "execute_result"
    }
   ],
   "source": [
    "neigh.fit(X_train_s, y_train)"
   ]
  },
  {
   "cell_type": "code",
   "execution_count": 188,
   "metadata": {},
   "outputs": [],
   "source": [
    "y_predKnn = neigh.predict(X_test_s)"
   ]
  },
  {
   "cell_type": "code",
   "execution_count": 189,
   "metadata": {},
   "outputs": [
    {
     "data": {
      "text/plain": [
       "0.8358681875792142"
      ]
     },
     "execution_count": 189,
     "metadata": {},
     "output_type": "execute_result"
    }
   ],
   "source": [
    "prec = float(np.sum(y_predKnn == y_test)) / len(y_test)\n",
    "prec"
   ]
  },
  {
   "cell_type": "code",
   "execution_count": 190,
   "metadata": {},
   "outputs": [],
   "source": [
    "Metier_MISSING_KNN = clf.predict(dfUnknown)"
   ]
  },
  {
   "cell_type": "code",
   "execution_count": 191,
   "metadata": {},
   "outputs": [
    {
     "name": "stdout",
     "output_type": "stream",
     "text": [
      "['Data engineer' 'Data scientist' 'Data scientist' 'Data scientist'\n",
      " 'Data architecte' 'Data scientist' 'Data scientist' 'Lead data scientist'\n",
      " 'Data engineer' 'Data scientist' 'Data architecte' 'Data engineer'\n",
      " 'Data architecte' 'Data scientist' 'Data engineer' 'Data scientist'\n",
      " 'Data architecte' 'Data scientist' 'Lead data scientist'] ['Data engineer' 'Data scientist' 'Data scientist' 'Data scientist'\n",
      " 'Data architecte' 'Data scientist' 'Data scientist' 'Lead data scientist'\n",
      " 'Data engineer' 'Data scientist' 'Data architecte' 'Data engineer'\n",
      " 'Data architecte' 'Data scientist' 'Data engineer' 'Data scientist'\n",
      " 'Data architecte' 'Data scientist' 'Lead data scientist'] ['Data engineer' 'Data scientist' 'Data scientist' 'Data scientist'\n",
      " 'Data architecte' 'Data scientist' 'Data scientist' 'Lead data scientist'\n",
      " 'Data engineer' 'Data scientist' 'Data architecte' 'Data engineer'\n",
      " 'Data architecte' 'Data scientist' 'Data engineer' 'Data scientist'\n",
      " 'Data architecte' 'Data scientist' 'Lead data scientist']\n"
     ]
    }
   ],
   "source": [
    "print(Metier_MISSING_KNN, Metier_MISSING_RF, Metier_MISSING_ETC)"
   ]
  },
  {
   "cell_type": "markdown",
   "metadata": {},
   "source": [
    "**MICE**"
   ]
  },
  {
   "cell_type": "code",
   "execution_count": 375,
   "metadata": {},
   "outputs": [],
   "source": [
    "from sklearn.experimental import enable_iterative_imputer\n",
    "from sklearn.impute import IterativeImputer\n"
   ]
  },
  {
   "cell_type": "code",
   "execution_count": 376,
   "metadata": {},
   "outputs": [],
   "source": [
    "X_Missing =  df_merge"
   ]
  },
  {
   "cell_type": "code",
   "execution_count": 377,
   "metadata": {},
   "outputs": [
    {
     "data": {
      "text/plain": [
       "IterativeImputer(add_indicator=False, estimator=None,\n",
       "                 imputation_order='ascending', initial_strategy='mean',\n",
       "                 max_iter=10, max_value=None, min_value=None,\n",
       "                 missing_values=nan, n_nearest_features=None, random_state=0,\n",
       "                 sample_posterior=True, tol=0.001, verbose=0)"
      ]
     },
     "execution_count": 377,
     "metadata": {},
     "output_type": "execute_result"
    }
   ],
   "source": [
    "imputer = IterativeImputer( random_state=0,sample_posterior=True)\n",
    "imputer.fit([[7, 2, 3], [4, np.nan, 6], [10, 5, 9]])"
   ]
  },
  {
   "cell_type": "code",
   "execution_count": 378,
   "metadata": {},
   "outputs": [
    {
     "ename": "NameError",
     "evalue": "name 'estimator' is not defined",
     "output_type": "error",
     "traceback": [
      "\u001b[0;31m---------------------------------------------------------------------------\u001b[0m",
      "\u001b[0;31mNameError\u001b[0m                                 Traceback (most recent call last)",
      "\u001b[0;32m<ipython-input-378-bd19dccf006b>\u001b[0m in \u001b[0;36m<module>\u001b[0;34m\u001b[0m\n\u001b[0;32m----> 1\u001b[0;31m impute_scores = cross_val_score(estimator, df_merge, df_merge,\n\u001b[0m\u001b[1;32m      2\u001b[0m                                     \u001b[0mscoring\u001b[0m\u001b[0;34m=\u001b[0m\u001b[0;34m'precision'\u001b[0m\u001b[0;34m,\u001b[0m\u001b[0;34m\u001b[0m\u001b[0;34m\u001b[0m\u001b[0m\n\u001b[1;32m      3\u001b[0m                                     cv=N_SPLITS)\n",
      "\u001b[0;31mNameError\u001b[0m: name 'estimator' is not defined"
     ]
    }
   ],
   "source": [
    "impute_scores = cross_val_score(estimator, df_merge, df_merge,\n",
    "                                    scoring='precision',\n",
    "                                    cv=N_SPLITS)"
   ]
  },
  {
   "cell_type": "markdown",
   "metadata": {},
   "source": [
    "**Neural network**"
   ]
  },
  {
   "cell_type": "code",
   "execution_count": 2,
   "metadata": {},
   "outputs": [],
   "source": [
    "import tensorflow as tf"
   ]
  },
  {
   "cell_type": "code",
   "execution_count": 3,
   "metadata": {},
   "outputs": [],
   "source": [
    "model = tf.keras.models.Sequential([\n",
    "  tf.keras.layers.Dense(900, activation='relu'),\n",
    "     # tf.keras.layers.Dense(20, activation='relu'),\n",
    "          tf.keras.layers.Dense(500, activation='relu'),\n",
    "\n",
    "          tf.keras.layers.Dense(200, activation='relu'),\n",
    "\n",
    "       #   tf.keras.layers.Dense(100, activation='relu'),\n",
    "\n",
    "             tf.keras.layers.Dense(50, activation='relu'),\n",
    "\n",
    "\n",
    "     # tf.keras.layers.Dense(100, activation='sigmoid'),\n",
    "   #   tf.keras.layers.Dense(5, activation='sigmoid'),\n",
    "   #   tf.keras.layers.Dense(3, activation='sigmoid'),\n",
    "\n",
    "\n",
    "\n",
    "  tf.keras.layers.Dense(4, activation='softmax')\n",
    "])"
   ]
  },
  {
   "cell_type": "code",
   "execution_count": 4,
   "metadata": {},
   "outputs": [],
   "source": [
    "model.compile(optimizer='adam',\n",
    "              loss='sparse_categorical_crossentropy',\n",
    "              metrics=['accuracy'])"
   ]
  },
  {
   "cell_type": "code",
   "execution_count": 5,
   "metadata": {},
   "outputs": [
    {
     "ename": "NameError",
     "evalue": "name 'np' is not defined",
     "output_type": "error",
     "traceback": [
      "\u001b[0;31m---------------------------------------------------------------------------\u001b[0m",
      "\u001b[0;31mNameError\u001b[0m                                 Traceback (most recent call last)",
      "\u001b[0;32m<ipython-input-5-4626c69e0033>\u001b[0m in \u001b[0;36m<module>\u001b[0;34m\u001b[0m\n\u001b[0;32m----> 1\u001b[0;31m \u001b[0mX_train_s\u001b[0m \u001b[0;34m=\u001b[0m \u001b[0mnp\u001b[0m\u001b[0;34m.\u001b[0m\u001b[0marray\u001b[0m\u001b[0;34m(\u001b[0m\u001b[0mX_train_s\u001b[0m\u001b[0;34m)\u001b[0m\u001b[0;34m\u001b[0m\u001b[0;34m\u001b[0m\u001b[0m\n\u001b[0m\u001b[1;32m      2\u001b[0m \u001b[0my_train\u001b[0m \u001b[0;34m=\u001b[0m \u001b[0my_train\u001b[0m\u001b[0;34m.\u001b[0m\u001b[0mastype\u001b[0m\u001b[0;34m(\u001b[0m\u001b[0;34m'category'\u001b[0m\u001b[0;34m)\u001b[0m\u001b[0;34m\u001b[0m\u001b[0;34m\u001b[0m\u001b[0m\n\u001b[1;32m      3\u001b[0m \u001b[0my_train\u001b[0m \u001b[0;34m=\u001b[0m \u001b[0mnp\u001b[0m\u001b[0;34m.\u001b[0m\u001b[0marray\u001b[0m\u001b[0;34m(\u001b[0m\u001b[0my_train\u001b[0m\u001b[0;34m.\u001b[0m\u001b[0mcat\u001b[0m\u001b[0;34m.\u001b[0m\u001b[0mcodes\u001b[0m\u001b[0;34m)\u001b[0m\u001b[0;34m\u001b[0m\u001b[0;34m\u001b[0m\u001b[0m\n",
      "\u001b[0;31mNameError\u001b[0m: name 'np' is not defined"
     ]
    }
   ],
   "source": [
    "X_train_s = np.array(X_train_s)\n",
    "y_train = y_train.astype('category')\n",
    "y_train = np.array(y_train.cat.codes)"
   ]
  },
  {
   "cell_type": "code",
   "execution_count": null,
   "metadata": {
    "scrolled": true
   },
   "outputs": [],
   "source": [
    "\n",
    "#y_train.head\n",
    "model.fit(X_train_s, y_train, epochs=40)"
   ]
  },
  {
   "cell_type": "code",
   "execution_count": null,
   "metadata": {},
   "outputs": [],
   "source": [
    "X_test_s.shape\n",
    "#y_test.shape"
   ]
  },
  {
   "cell_type": "code",
   "execution_count": null,
   "metadata": {},
   "outputs": [],
   "source": [
    "X_test_s = np.array(X_test_s)\n",
    "y_test = y_test.astype('category')\n",
    "y_test = np.array(y_test.cat.codes)"
   ]
  },
  {
   "cell_type": "code",
   "execution_count": null,
   "metadata": {},
   "outputs": [],
   "source": [
    "test_loss, test_acc = model.evaluate(X_test_s,  y_test )"
   ]
  },
  {
   "cell_type": "code",
   "execution_count": 391,
   "metadata": {},
   "outputs": [
    {
     "data": {
      "text/plain": [
       "(2.492930866617365, 0.4435995)"
      ]
     },
     "execution_count": 391,
     "metadata": {},
     "output_type": "execute_result"
    }
   ],
   "source": [
    "test_loss, test_acc "
   ]
  },
  {
   "cell_type": "markdown",
   "metadata": {},
   "source": [
    "**Différente discrétisation**"
   ]
  },
  {
   "cell_type": "code",
   "execution_count": 565,
   "metadata": {},
   "outputs": [
    {
     "data": {
      "text/html": [
       "<div>\n",
       "<style scoped>\n",
       "    .dataframe tbody tr th:only-of-type {\n",
       "        vertical-align: middle;\n",
       "    }\n",
       "\n",
       "    .dataframe tbody tr th {\n",
       "        vertical-align: top;\n",
       "    }\n",
       "\n",
       "    .dataframe thead th {\n",
       "        text-align: right;\n",
       "    }\n",
       "</style>\n",
       "<table border=\"1\" class=\"dataframe\">\n",
       "  <thead>\n",
       "    <tr style=\"text-align: right;\">\n",
       "      <th></th>\n",
       "      <th>Entreprise</th>\n",
       "      <th>Metier</th>\n",
       "      <th>Technologies</th>\n",
       "      <th>Diplome</th>\n",
       "      <th>Experience</th>\n",
       "      <th>Ville</th>\n",
       "      <th>Exp_label</th>\n",
       "    </tr>\n",
       "  </thead>\n",
       "  <tbody>\n",
       "    <tr>\n",
       "      <th>0</th>\n",
       "      <td>Sanofi</td>\n",
       "      <td>Data scientist</td>\n",
       "      <td>Matlab/Python/Pyspark/Scikit-learn/Tensorflow</td>\n",
       "      <td>Master</td>\n",
       "      <td>1.0</td>\n",
       "      <td>Paris</td>\n",
       "      <td>confirme</td>\n",
       "    </tr>\n",
       "    <tr>\n",
       "      <th>1</th>\n",
       "      <td>Massachusetts General Hospital(MGH)</td>\n",
       "      <td>Data architecte</td>\n",
       "      <td>Python/Java/Scala/MongoDB</td>\n",
       "      <td>Master</td>\n",
       "      <td>3.0</td>\n",
       "      <td>Marseille</td>\n",
       "      <td>avance</td>\n",
       "    </tr>\n",
       "    <tr>\n",
       "      <th>2</th>\n",
       "      <td>Delve</td>\n",
       "      <td>Lead data scientist</td>\n",
       "      <td>SPSS/SQL/Teradata/R/Python/Tensorflow/scikit-l...</td>\n",
       "      <td>Master</td>\n",
       "      <td>3.0</td>\n",
       "      <td>Nantes</td>\n",
       "      <td>avance</td>\n",
       "    </tr>\n",
       "    <tr>\n",
       "      <th>3</th>\n",
       "      <td>Ann &amp; Robert H. Lurie Children’s Hospital of C...</td>\n",
       "      <td>Data scientist</td>\n",
       "      <td>C/C++/Java/Python</td>\n",
       "      <td>Master</td>\n",
       "      <td>1.5</td>\n",
       "      <td>Marseille</td>\n",
       "      <td>confirme</td>\n",
       "    </tr>\n",
       "    <tr>\n",
       "      <th>4</th>\n",
       "      <td>Arm</td>\n",
       "      <td>Data scientist</td>\n",
       "      <td>Matlab/Python/C++/numpy/Tensorflow/scikit-learn</td>\n",
       "      <td>Phd</td>\n",
       "      <td>2.0</td>\n",
       "      <td>Bordeaux</td>\n",
       "      <td>avance</td>\n",
       "    </tr>\n",
       "    <tr>\n",
       "      <th>...</th>\n",
       "      <td>...</td>\n",
       "      <td>...</td>\n",
       "      <td>...</td>\n",
       "      <td>...</td>\n",
       "      <td>...</td>\n",
       "      <td>...</td>\n",
       "      <td>...</td>\n",
       "    </tr>\n",
       "    <tr>\n",
       "      <th>9577</th>\n",
       "      <td>Massachusetts General Hospital(MGH)</td>\n",
       "      <td>Data scientist</td>\n",
       "      <td>C++/R/Python/Matlab/Matplotlib</td>\n",
       "      <td>Master</td>\n",
       "      <td>1.5</td>\n",
       "      <td>Lyon</td>\n",
       "      <td>confirme</td>\n",
       "    </tr>\n",
       "    <tr>\n",
       "      <th>9578</th>\n",
       "      <td>Charles River Analytics</td>\n",
       "      <td>Data scientist</td>\n",
       "      <td>Excel/Python/Matlab/R/machine learning/anglais</td>\n",
       "      <td>Master</td>\n",
       "      <td>11.0</td>\n",
       "      <td>Toulouse</td>\n",
       "      <td>expert</td>\n",
       "    </tr>\n",
       "    <tr>\n",
       "      <th>9579</th>\n",
       "      <td>Ball Aerospace</td>\n",
       "      <td>Data scientist</td>\n",
       "      <td>R/machine learning/Excel/VBA</td>\n",
       "      <td>Master</td>\n",
       "      <td>1.0</td>\n",
       "      <td>Paris</td>\n",
       "      <td>confirme</td>\n",
       "    </tr>\n",
       "    <tr>\n",
       "      <th>9580</th>\n",
       "      <td>Takeda Pharmaceutical</td>\n",
       "      <td>Data scientist</td>\n",
       "      <td>Python/Pyspark/machine learning/Microsoft Azure</td>\n",
       "      <td>Master</td>\n",
       "      <td>17.0</td>\n",
       "      <td>Rennes</td>\n",
       "      <td>expert</td>\n",
       "    </tr>\n",
       "    <tr>\n",
       "      <th>9581</th>\n",
       "      <td>Vertex</td>\n",
       "      <td>Data scientist</td>\n",
       "      <td>VBA/Python/Excel/R</td>\n",
       "      <td>Phd</td>\n",
       "      <td>0.0</td>\n",
       "      <td>Paris</td>\n",
       "      <td>debutant</td>\n",
       "    </tr>\n",
       "  </tbody>\n",
       "</table>\n",
       "<p>9582 rows × 7 columns</p>\n",
       "</div>"
      ],
      "text/plain": [
       "                                             Entreprise               Metier  \\\n",
       "0                                                Sanofi       Data scientist   \n",
       "1                   Massachusetts General Hospital(MGH)      Data architecte   \n",
       "2                                                 Delve  Lead data scientist   \n",
       "3     Ann & Robert H. Lurie Children’s Hospital of C...       Data scientist   \n",
       "4                                                   Arm       Data scientist   \n",
       "...                                                 ...                  ...   \n",
       "9577                Massachusetts General Hospital(MGH)       Data scientist   \n",
       "9578                            Charles River Analytics       Data scientist   \n",
       "9579                                     Ball Aerospace       Data scientist   \n",
       "9580                              Takeda Pharmaceutical       Data scientist   \n",
       "9581                                             Vertex       Data scientist   \n",
       "\n",
       "                                           Technologies Diplome  Experience  \\\n",
       "0         Matlab/Python/Pyspark/Scikit-learn/Tensorflow  Master         1.0   \n",
       "1                             Python/Java/Scala/MongoDB  Master         3.0   \n",
       "2     SPSS/SQL/Teradata/R/Python/Tensorflow/scikit-l...  Master         3.0   \n",
       "3                                     C/C++/Java/Python  Master         1.5   \n",
       "4       Matlab/Python/C++/numpy/Tensorflow/scikit-learn     Phd         2.0   \n",
       "...                                                 ...     ...         ...   \n",
       "9577                     C++/R/Python/Matlab/Matplotlib  Master         1.5   \n",
       "9578     Excel/Python/Matlab/R/machine learning/anglais  Master        11.0   \n",
       "9579                       R/machine learning/Excel/VBA  Master         1.0   \n",
       "9580    Python/Pyspark/machine learning/Microsoft Azure  Master        17.0   \n",
       "9581                                 VBA/Python/Excel/R     Phd         0.0   \n",
       "\n",
       "          Ville Exp_label  \n",
       "0         Paris  confirme  \n",
       "1     Marseille    avance  \n",
       "2        Nantes    avance  \n",
       "3     Marseille  confirme  \n",
       "4      Bordeaux    avance  \n",
       "...         ...       ...  \n",
       "9577       Lyon  confirme  \n",
       "9578   Toulouse    expert  \n",
       "9579      Paris  confirme  \n",
       "9580     Rennes    expert  \n",
       "9581      Paris  debutant  \n",
       "\n",
       "[9582 rows x 7 columns]"
      ]
     },
     "execution_count": 565,
     "metadata": {},
     "output_type": "execute_result"
    }
   ],
   "source": [
    "df"
   ]
  },
  {
   "cell_type": "code",
   "execution_count": 566,
   "metadata": {},
   "outputs": [],
   "source": [
    "df2 = df"
   ]
  },
  {
   "cell_type": "code",
   "execution_count": 567,
   "metadata": {},
   "outputs": [
    {
     "data": {
      "text/plain": [
       "0"
      ]
     },
     "execution_count": 567,
     "metadata": {},
     "output_type": "execute_result"
    }
   ],
   "source": [
    "df['Metier'].isna().sum()"
   ]
  },
  {
   "cell_type": "code",
   "execution_count": 569,
   "metadata": {},
   "outputs": [],
   "source": [
    "df2['Entreprise']= df2['Entreprise'].astype('category', inplace = True)\n",
    "df2['Diplome']= df2['Diplome'].astype('category', inplace = True)\n",
    "df2['Ville'] = df2['Ville'].astype('category', inplace = True)\n",
    "df2['Exp_label'] = df2['Exp_label'].astype('category', inplace = True)\n"
   ]
  },
  {
   "cell_type": "code",
   "execution_count": 528,
   "metadata": {},
   "outputs": [],
   "source": [
    "df2['Metier'] = df2['Metier'].fillna('Unknown')"
   ]
  },
  {
   "cell_type": "code",
   "execution_count": 570,
   "metadata": {},
   "outputs": [
    {
     "data": {
      "text/plain": [
       "Entreprise      category\n",
       "Metier            object\n",
       "Technologies      object\n",
       "Diplome         category\n",
       "Experience       float64\n",
       "Ville           category\n",
       "Exp_label       category\n",
       "dtype: object"
      ]
     },
     "execution_count": 570,
     "metadata": {},
     "output_type": "execute_result"
    }
   ],
   "source": [
    "df2.dtypes"
   ]
  },
  {
   "cell_type": "code",
   "execution_count": 571,
   "metadata": {},
   "outputs": [],
   "source": [
    "df2['Entreprise']  = df2.Entreprise.cat.codes\n",
    "df2['Diplome']  = df2.Diplome.cat.codes\n",
    "df2['Ville']  = df2.Ville.cat.codes\n",
    "df2['Exp_label'] = df2.Exp_label.cat.codes"
   ]
  },
  {
   "cell_type": "code",
   "execution_count": 572,
   "metadata": {},
   "outputs": [
    {
     "data": {
      "text/html": [
       "<div>\n",
       "<style scoped>\n",
       "    .dataframe tbody tr th:only-of-type {\n",
       "        vertical-align: middle;\n",
       "    }\n",
       "\n",
       "    .dataframe tbody tr th {\n",
       "        vertical-align: top;\n",
       "    }\n",
       "\n",
       "    .dataframe thead th {\n",
       "        text-align: right;\n",
       "    }\n",
       "</style>\n",
       "<table border=\"1\" class=\"dataframe\">\n",
       "  <thead>\n",
       "    <tr style=\"text-align: right;\">\n",
       "      <th></th>\n",
       "      <th>Entreprise</th>\n",
       "      <th>Metier</th>\n",
       "      <th>Technologies</th>\n",
       "      <th>Diplome</th>\n",
       "      <th>Experience</th>\n",
       "      <th>Ville</th>\n",
       "      <th>Exp_label</th>\n",
       "    </tr>\n",
       "  </thead>\n",
       "  <tbody>\n",
       "    <tr>\n",
       "      <th>0</th>\n",
       "      <td>1075</td>\n",
       "      <td>Data scientist</td>\n",
       "      <td>Matlab/Python/Pyspark/Scikit-learn/Tensorflow</td>\n",
       "      <td>1</td>\n",
       "      <td>1.0</td>\n",
       "      <td>8</td>\n",
       "      <td>1</td>\n",
       "    </tr>\n",
       "    <tr>\n",
       "      <th>1</th>\n",
       "      <td>797</td>\n",
       "      <td>Data architecte</td>\n",
       "      <td>Python/Java/Scala/MongoDB</td>\n",
       "      <td>1</td>\n",
       "      <td>3.0</td>\n",
       "      <td>4</td>\n",
       "      <td>0</td>\n",
       "    </tr>\n",
       "    <tr>\n",
       "      <th>2</th>\n",
       "      <td>401</td>\n",
       "      <td>Lead data scientist</td>\n",
       "      <td>SPSS/SQL/Teradata/R/Python/Tensorflow/scikit-l...</td>\n",
       "      <td>1</td>\n",
       "      <td>3.0</td>\n",
       "      <td>6</td>\n",
       "      <td>0</td>\n",
       "    </tr>\n",
       "    <tr>\n",
       "      <th>3</th>\n",
       "      <td>99</td>\n",
       "      <td>Data scientist</td>\n",
       "      <td>C/C++/Java/Python</td>\n",
       "      <td>1</td>\n",
       "      <td>1.5</td>\n",
       "      <td>4</td>\n",
       "      <td>1</td>\n",
       "    </tr>\n",
       "    <tr>\n",
       "      <th>4</th>\n",
       "      <td>120</td>\n",
       "      <td>Data scientist</td>\n",
       "      <td>Matlab/Python/C++/numpy/Tensorflow/scikit-learn</td>\n",
       "      <td>3</td>\n",
       "      <td>2.0</td>\n",
       "      <td>0</td>\n",
       "      <td>0</td>\n",
       "    </tr>\n",
       "  </tbody>\n",
       "</table>\n",
       "</div>"
      ],
      "text/plain": [
       "   Entreprise               Metier  \\\n",
       "0        1075       Data scientist   \n",
       "1         797      Data architecte   \n",
       "2         401  Lead data scientist   \n",
       "3          99       Data scientist   \n",
       "4         120       Data scientist   \n",
       "\n",
       "                                        Technologies  Diplome  Experience  \\\n",
       "0      Matlab/Python/Pyspark/Scikit-learn/Tensorflow        1         1.0   \n",
       "1                          Python/Java/Scala/MongoDB        1         3.0   \n",
       "2  SPSS/SQL/Teradata/R/Python/Tensorflow/scikit-l...        1         3.0   \n",
       "3                                  C/C++/Java/Python        1         1.5   \n",
       "4    Matlab/Python/C++/numpy/Tensorflow/scikit-learn        3         2.0   \n",
       "\n",
       "   Ville  Exp_label  \n",
       "0      8          1  \n",
       "1      4          0  \n",
       "2      6          0  \n",
       "3      4          1  \n",
       "4      0          0  "
      ]
     },
     "execution_count": 572,
     "metadata": {},
     "output_type": "execute_result"
    }
   ],
   "source": [
    "df2.head()"
   ]
  },
  {
   "cell_type": "code",
   "execution_count": 573,
   "metadata": {},
   "outputs": [
    {
     "data": {
      "text/plain": [
       "{'Data architecte',\n",
       " 'Data engineer',\n",
       " 'Data scientist',\n",
       " 'Lead data scientist',\n",
       " 'Unknown'}"
      ]
     },
     "execution_count": 573,
     "metadata": {},
     "output_type": "execute_result"
    }
   ],
   "source": [
    "set(list(df2['Metier']))"
   ]
  },
  {
   "cell_type": "code",
   "execution_count": null,
   "metadata": {},
   "outputs": [],
   "source": [
    "df2M = pd.concat([one_hot_encoding_, df2], axis =1 ) # Add experience\n",
    "\n"
   ]
  },
  {
   "cell_type": "code",
   "execution_count": 513,
   "metadata": {},
   "outputs": [],
   "source": [
    "df2MetierKnown =  df2['Metier']\n",
    "IndexMissingMetier  = list(df2MetierKnown[df2MetierKnown == 'Unknown'].index)\n",
    "df2MetierKnown.drop(IndexMissingMetier  , inplace=True)\n",
    "df2MetierUnKnown =  df2.iloc[IndexMissingMetier  , : ]\n",
    "\n",
    "\n",
    "df2UK  = df2.iloc[IndexMissingMetier , : ]\n",
    "df2K = df2\n",
    "df2K.drop(IndexMissingMetier, inplace=True)\n",
    "#df2K.drop(IndexMissingMetier, inplace=True)"
   ]
  },
  {
   "cell_type": "code",
   "execution_count": 514,
   "metadata": {},
   "outputs": [
    {
     "data": {
      "text/plain": [
       "[]"
      ]
     },
     "execution_count": 514,
     "metadata": {},
     "output_type": "execute_result"
    }
   ],
   "source": [
    "IndexMissingMetier"
   ]
  },
  {
   "cell_type": "code",
   "execution_count": 423,
   "metadata": {},
   "outputs": [
    {
     "data": {
      "text/html": [
       "<div>\n",
       "<style scoped>\n",
       "    .dataframe tbody tr th:only-of-type {\n",
       "        vertical-align: middle;\n",
       "    }\n",
       "\n",
       "    .dataframe tbody tr th {\n",
       "        vertical-align: top;\n",
       "    }\n",
       "\n",
       "    .dataframe thead th {\n",
       "        text-align: right;\n",
       "    }\n",
       "</style>\n",
       "<table border=\"1\" class=\"dataframe\">\n",
       "  <thead>\n",
       "    <tr style=\"text-align: right;\">\n",
       "      <th></th>\n",
       "      <th>Entreprise</th>\n",
       "      <th>Technologies</th>\n",
       "      <th>Diplome</th>\n",
       "      <th>Experience</th>\n",
       "      <th>Ville</th>\n",
       "      <th>Exp_label</th>\n",
       "    </tr>\n",
       "  </thead>\n",
       "  <tbody>\n",
       "  </tbody>\n",
       "</table>\n",
       "</div>"
      ],
      "text/plain": [
       "Empty DataFrame\n",
       "Columns: [Entreprise, Technologies, Diplome, Experience, Ville, Exp_label]\n",
       "Index: []"
      ]
     },
     "execution_count": 423,
     "metadata": {},
     "output_type": "execute_result"
    }
   ],
   "source": [
    "df2K.drop(columns=['Metier'], inplace = True)\n",
    "df2UK.drop(columns=['Metier'])"
   ]
  },
  {
   "cell_type": "code",
   "execution_count": 505,
   "metadata": {},
   "outputs": [
    {
     "data": {
      "text/html": [
       "<div>\n",
       "<style scoped>\n",
       "    .dataframe tbody tr th:only-of-type {\n",
       "        vertical-align: middle;\n",
       "    }\n",
       "\n",
       "    .dataframe tbody tr th {\n",
       "        vertical-align: top;\n",
       "    }\n",
       "\n",
       "    .dataframe thead th {\n",
       "        text-align: right;\n",
       "    }\n",
       "</style>\n",
       "<table border=\"1\" class=\"dataframe\">\n",
       "  <thead>\n",
       "    <tr style=\"text-align: right;\">\n",
       "      <th></th>\n",
       "      <th>Entreprise</th>\n",
       "      <th>Metier</th>\n",
       "      <th>Technologies</th>\n",
       "      <th>Diplome</th>\n",
       "      <th>Experience</th>\n",
       "      <th>Ville</th>\n",
       "      <th>Exp_label</th>\n",
       "    </tr>\n",
       "  </thead>\n",
       "  <tbody>\n",
       "  </tbody>\n",
       "</table>\n",
       "</div>"
      ],
      "text/plain": [
       "Empty DataFrame\n",
       "Columns: [Entreprise, Metier, Technologies, Diplome, Experience, Ville, Exp_label]\n",
       "Index: []"
      ]
     },
     "execution_count": 505,
     "metadata": {},
     "output_type": "execute_result"
    }
   ],
   "source": [
    "df2UK"
   ]
  },
  {
   "cell_type": "markdown",
   "metadata": {},
   "source": [
    "### 10) Décrire de façon détaillée les différentes étapes pour mener à bien un projet data complexe.\n",
    "\n",
    "Dans le cadre d’une campagne de recrutement vous avez reçu un ensemble de cv qui ne sont pas à jour (le poste actuel n’est pas présent). Deux exemple de CV vous sont donnés en pièce jointe (il n'y a pas de mise en page type). Tous les CV sont au format PDF.\n",
    "\n",
    "On souhaite connaitre le poste actuel de chaque candidat.\n",
    "\n",
    "-  Quelles sont les différentes étapes nécessaires à la réalisation d'un tel projet?\n",
    "-  Pour chaque étape, détaillez les taches à accomplir, les méthodes à suivre, les pistes possibles, les points critiques.\n",
    "-  Justifiez consciencieusement vos choix\n"
   ]
  },
  {
   "cell_type": "code",
   "execution_count": null,
   "metadata": {},
   "outputs": [],
   "source": []
  },
  {
   "cell_type": "code",
   "execution_count": null,
   "metadata": {},
   "outputs": [],
   "source": []
  },
  {
   "cell_type": "code",
   "execution_count": null,
   "metadata": {},
   "outputs": [],
   "source": []
  }
 ],
 "metadata": {
  "kernelspec": {
   "display_name": "Python 3",
   "language": "python",
   "name": "python3"
  },
  "language_info": {
   "codemirror_mode": {
    "name": "ipython",
    "version": 3
   },
   "file_extension": ".py",
   "mimetype": "text/x-python",
   "name": "python",
   "nbconvert_exporter": "python",
   "pygments_lexer": "ipython3",
   "version": "3.6.9"
  }
 },
 "nbformat": 4,
 "nbformat_minor": 2
}
