{
 "cells": [
  {
   "cell_type": "markdown",
   "metadata": {},
   "source": [
    "# Part I : Quel(le) data scientist êtes-vous ?\n",
    "## Contexte de l’analyse\n",
    "\n",
    "Elu métier le plus sexy par la Harvard Business Review en octobre 2012, le data scientist représente un profil rare qui exige de nombreuses compétences.\n",
    "\n",
    "A partir d'un dataset Aquila, vous réaliserez :\n",
    "- un clustering non supervisé afin d'identifier 2 groupes de profils techniques distinctes\n",
    "- une prédiction des profils dont le métier n'est pas labellisé\n",
    "\n",
    "\n",
    "## Données\n",
    "data.csv contient 6 variables : \n",
    "    - 'Entreprise' correspond à une liste d'entreprises fictive\n",
    "    - 'Metier' correspond au métier parmi data scientist, lead data scientist, data engineer et data architecte\n",
    "    - 'Technologies' correspond aux compétences maîtrisées par le profil\n",
    "    - 'Diplome' correspond à son niveau scolaire (Bac, Master, PhD,...)\n",
    "    - 'Experience' correspond au nombre d'années d'expériences\n",
    "    - 'Ville' correspond au lieu de travail\n",
    "    \n",
    "\n",
    "\n",
    "## Répondez aux questions \n",
    "\n",
    "Bonne chance!"
   ]
  },
  {
   "cell_type": "code",
   "execution_count": 28,
   "metadata": {},
   "outputs": [],
   "source": [
    "# Import des libraries classique (numpy, pandas, ...)\n",
    "import pandas as pd\n",
    "import numpy as np\n",
    "import re\n",
    "import sklearn as sk\n",
    "import seaborn as sb\n",
    "from matplotlib import pyplot as plt\n",
    "plt.style.use('ggplot')"
   ]
  },
  {
   "cell_type": "markdown",
   "metadata": {},
   "source": [
    "### 1) Importer le tableau de données dans un dataframe "
   ]
  },
  {
   "cell_type": "code",
   "execution_count": 29,
   "metadata": {},
   "outputs": [],
   "source": [
    "# Import du dataframe \"data.csv\"\n",
    "df = pd.read_csv(\"data.csv\", decimal=\",\")\n",
    "\n",
    "# l'argument decimal=\",\" remplace le point par la virgule"
   ]
  },
  {
   "cell_type": "code",
   "execution_count": 30,
   "metadata": {},
   "outputs": [
    {
     "data": {
      "text/html": [
       "<div>\n",
       "<style scoped>\n",
       "    .dataframe tbody tr th:only-of-type {\n",
       "        vertical-align: middle;\n",
       "    }\n",
       "\n",
       "    .dataframe tbody tr th {\n",
       "        vertical-align: top;\n",
       "    }\n",
       "\n",
       "    .dataframe thead th {\n",
       "        text-align: right;\n",
       "    }\n",
       "</style>\n",
       "<table border=\"1\" class=\"dataframe\">\n",
       "  <thead>\n",
       "    <tr style=\"text-align: right;\">\n",
       "      <th></th>\n",
       "      <th>Entreprise</th>\n",
       "      <th>Metier</th>\n",
       "      <th>Technologies</th>\n",
       "      <th>Diplome</th>\n",
       "      <th>Experience</th>\n",
       "      <th>Ville</th>\n",
       "    </tr>\n",
       "  </thead>\n",
       "  <tbody>\n",
       "    <tr>\n",
       "      <td>0</td>\n",
       "      <td>Sanofi</td>\n",
       "      <td>Data scientist</td>\n",
       "      <td>Matlab/Python/Pyspark/Scikit-learn/Tensorflow</td>\n",
       "      <td>Master</td>\n",
       "      <td>1.0</td>\n",
       "      <td>Paris</td>\n",
       "    </tr>\n",
       "    <tr>\n",
       "      <td>1</td>\n",
       "      <td>Massachusetts General Hospital(MGH)</td>\n",
       "      <td>Data architecte</td>\n",
       "      <td>Python/Java/Scala/MongoDB</td>\n",
       "      <td>Master</td>\n",
       "      <td>3.0</td>\n",
       "      <td>Marseille</td>\n",
       "    </tr>\n",
       "    <tr>\n",
       "      <td>2</td>\n",
       "      <td>Delve</td>\n",
       "      <td>Lead data scientist</td>\n",
       "      <td>SPSS/SQL/Teradata/R/Python/Tensorflow/scikit-l...</td>\n",
       "      <td>Master</td>\n",
       "      <td>3.0</td>\n",
       "      <td>Nantes</td>\n",
       "    </tr>\n",
       "    <tr>\n",
       "      <td>3</td>\n",
       "      <td>Ann &amp; Robert H. Lurie Children’s Hospital of C...</td>\n",
       "      <td>Data scientist</td>\n",
       "      <td>C/C++/Java/Python</td>\n",
       "      <td>Master</td>\n",
       "      <td>1.5</td>\n",
       "      <td>Marseille</td>\n",
       "    </tr>\n",
       "    <tr>\n",
       "      <td>4</td>\n",
       "      <td>Arm</td>\n",
       "      <td>Data scientist</td>\n",
       "      <td>Matlab/Python/C++/numpy/Tensorflow/scikit-learn</td>\n",
       "      <td>Phd</td>\n",
       "      <td>NaN</td>\n",
       "      <td>Bordeaux</td>\n",
       "    </tr>\n",
       "    <tr>\n",
       "      <td>5</td>\n",
       "      <td>S&amp;P Global Ratings</td>\n",
       "      <td>Lead data scientist</td>\n",
       "      <td>VBA/Python/Excel/R</td>\n",
       "      <td>Master</td>\n",
       "      <td>6.0</td>\n",
       "      <td>Lille</td>\n",
       "    </tr>\n",
       "    <tr>\n",
       "      <td>6</td>\n",
       "      <td>NVIDIA</td>\n",
       "      <td>Data scientist</td>\n",
       "      <td>Excel/VBA/R/Python/PySpark</td>\n",
       "      <td>Bachelor</td>\n",
       "      <td>0.0</td>\n",
       "      <td>Lille</td>\n",
       "    </tr>\n",
       "    <tr>\n",
       "      <td>7</td>\n",
       "      <td>Cedars-Sinai Medical Center</td>\n",
       "      <td>Data scientist</td>\n",
       "      <td>Java/C/C++/R/Python</td>\n",
       "      <td>Bachelor</td>\n",
       "      <td>4.0</td>\n",
       "      <td>Toulouse</td>\n",
       "    </tr>\n",
       "    <tr>\n",
       "      <td>8</td>\n",
       "      <td>Fibroblast</td>\n",
       "      <td>Data architecte</td>\n",
       "      <td>Java/Linux/Docker</td>\n",
       "      <td>Bachelor</td>\n",
       "      <td>8.0</td>\n",
       "      <td>Paris</td>\n",
       "    </tr>\n",
       "    <tr>\n",
       "      <td>9</td>\n",
       "      <td>General Motors</td>\n",
       "      <td>Data engineer</td>\n",
       "      <td>Python/Java/Linux/GNU</td>\n",
       "      <td>Master</td>\n",
       "      <td>5.0</td>\n",
       "      <td>Toulouse</td>\n",
       "    </tr>\n",
       "  </tbody>\n",
       "</table>\n",
       "</div>"
      ],
      "text/plain": [
       "                                          Entreprise               Metier  \\\n",
       "0                                             Sanofi       Data scientist   \n",
       "1                Massachusetts General Hospital(MGH)      Data architecte   \n",
       "2                                              Delve  Lead data scientist   \n",
       "3  Ann & Robert H. Lurie Children’s Hospital of C...       Data scientist   \n",
       "4                                                Arm       Data scientist   \n",
       "5                                 S&P Global Ratings  Lead data scientist   \n",
       "6                                             NVIDIA       Data scientist   \n",
       "7                        Cedars-Sinai Medical Center       Data scientist   \n",
       "8                                         Fibroblast      Data architecte   \n",
       "9                                     General Motors        Data engineer   \n",
       "\n",
       "                                        Technologies   Diplome  Experience  \\\n",
       "0      Matlab/Python/Pyspark/Scikit-learn/Tensorflow    Master         1.0   \n",
       "1                          Python/Java/Scala/MongoDB    Master         3.0   \n",
       "2  SPSS/SQL/Teradata/R/Python/Tensorflow/scikit-l...    Master         3.0   \n",
       "3                                  C/C++/Java/Python    Master         1.5   \n",
       "4    Matlab/Python/C++/numpy/Tensorflow/scikit-learn       Phd         NaN   \n",
       "5                                 VBA/Python/Excel/R    Master         6.0   \n",
       "6                         Excel/VBA/R/Python/PySpark  Bachelor         0.0   \n",
       "7                                Java/C/C++/R/Python  Bachelor         4.0   \n",
       "8                                  Java/Linux/Docker  Bachelor         8.0   \n",
       "9                              Python/Java/Linux/GNU    Master         5.0   \n",
       "\n",
       "       Ville  \n",
       "0      Paris  \n",
       "1  Marseille  \n",
       "2     Nantes  \n",
       "3  Marseille  \n",
       "4   Bordeaux  \n",
       "5      Lille  \n",
       "6      Lille  \n",
       "7   Toulouse  \n",
       "8      Paris  \n",
       "9   Toulouse  "
      ]
     },
     "execution_count": 30,
     "metadata": {},
     "output_type": "execute_result"
    }
   ],
   "source": [
    "# voir les 10 premieres lignes du dataframe\n",
    "df.head(10)"
   ]
  },
  {
   "cell_type": "code",
   "execution_count": 31,
   "metadata": {},
   "outputs": [
    {
     "data": {
      "text/html": [
       "<div>\n",
       "<style scoped>\n",
       "    .dataframe tbody tr th:only-of-type {\n",
       "        vertical-align: middle;\n",
       "    }\n",
       "\n",
       "    .dataframe tbody tr th {\n",
       "        vertical-align: top;\n",
       "    }\n",
       "\n",
       "    .dataframe thead th {\n",
       "        text-align: right;\n",
       "    }\n",
       "</style>\n",
       "<table border=\"1\" class=\"dataframe\">\n",
       "  <thead>\n",
       "    <tr style=\"text-align: right;\">\n",
       "      <th></th>\n",
       "      <th>Experience</th>\n",
       "    </tr>\n",
       "  </thead>\n",
       "  <tbody>\n",
       "    <tr>\n",
       "      <td>count</td>\n",
       "      <td>9488.000000</td>\n",
       "    </tr>\n",
       "    <tr>\n",
       "      <td>mean</td>\n",
       "      <td>2.814186</td>\n",
       "    </tr>\n",
       "    <tr>\n",
       "      <td>std</td>\n",
       "      <td>2.716293</td>\n",
       "    </tr>\n",
       "    <tr>\n",
       "      <td>min</td>\n",
       "      <td>0.000000</td>\n",
       "    </tr>\n",
       "    <tr>\n",
       "      <td>25%</td>\n",
       "      <td>1.000000</td>\n",
       "    </tr>\n",
       "    <tr>\n",
       "      <td>50%</td>\n",
       "      <td>2.000000</td>\n",
       "    </tr>\n",
       "    <tr>\n",
       "      <td>75%</td>\n",
       "      <td>3.500000</td>\n",
       "    </tr>\n",
       "    <tr>\n",
       "      <td>max</td>\n",
       "      <td>21.000000</td>\n",
       "    </tr>\n",
       "  </tbody>\n",
       "</table>\n",
       "</div>"
      ],
      "text/plain": [
       "        Experience\n",
       "count  9488.000000\n",
       "mean      2.814186\n",
       "std       2.716293\n",
       "min       0.000000\n",
       "25%       1.000000\n",
       "50%       2.000000\n",
       "75%       3.500000\n",
       "max      21.000000"
      ]
     },
     "execution_count": 31,
     "metadata": {},
     "output_type": "execute_result"
    }
   ],
   "source": [
    "# description des données\n",
    "df.describe() "
   ]
  },
  {
   "cell_type": "code",
   "execution_count": 32,
   "metadata": {},
   "outputs": [
    {
     "name": "stdout",
     "output_type": "stream",
     "text": [
      "<class 'pandas.core.frame.DataFrame'>\n",
      "RangeIndex: 9582 entries, 0 to 9581\n",
      "Data columns (total 6 columns):\n",
      "Entreprise      9565 non-null object\n",
      "Metier          9563 non-null object\n",
      "Technologies    9582 non-null object\n",
      "Diplome         9582 non-null object\n",
      "Experience      9488 non-null float64\n",
      "Ville           9582 non-null object\n",
      "dtypes: float64(1), object(5)\n",
      "memory usage: 449.3+ KB\n",
      "None\n"
     ]
    }
   ],
   "source": [
    "# informations sur les données \n",
    "print(df.info())"
   ]
  },
  {
   "cell_type": "raw",
   "metadata": {},
   "source": [
    "Remarques: \n",
    "a) Ce dataset contient des valeurs manquantes\n",
    "b) La variable \"Experience \" est l'unique variable de type float"
   ]
  },
  {
   "cell_type": "markdown",
   "metadata": {},
   "source": [
    "### 2) Combien y a t-il d'observations dans ce dataset? Y a t-il des valeurs manquantes? "
   ]
  },
  {
   "cell_type": "code",
   "execution_count": 33,
   "metadata": {},
   "outputs": [
    {
     "name": "stdout",
     "output_type": "stream",
     "text": [
      "Ce dataframe contient 9582 observations\n"
     ]
    }
   ],
   "source": [
    "# Le nombre d'observations et colonnes dans le dataset\n",
    "print(f'Ce dataframe contient {df.shape[0]} observations')"
   ]
  },
  {
   "cell_type": "code",
   "execution_count": 34,
   "metadata": {},
   "outputs": [
    {
     "name": "stdout",
     "output_type": "stream",
     "text": [
      "Entreprise      17\n",
      "Metier          19\n",
      "Technologies     0\n",
      "Diplome          0\n",
      "Experience      94\n",
      "Ville            0\n",
      "dtype: int64\n"
     ]
    }
   ],
   "source": [
    "# Le nombre de valeurs manquantes par colonnes\n",
    "print(df.isnull().sum())"
   ]
  },
  {
   "cell_type": "raw",
   "metadata": {},
   "source": [
    "Les varaibles qui contiennent les valeurs manquantes sont:\n",
    "- Entreprise \n",
    "- Metier \n",
    "- Experience"
   ]
  },
  {
   "cell_type": "code",
   "execution_count": 35,
   "metadata": {},
   "outputs": [
    {
     "name": "stdout",
     "output_type": "stream",
     "text": [
      "Ce dataframe contient au total 130 valeurs manquantes\n"
     ]
    }
   ],
   "source": [
    "# nombre total de valeurs manquantes \n",
    "print(f'Ce dataframe contient au total {df.isnull().sum().sum()} valeurs manquantes')"
   ]
  },
  {
   "cell_type": "markdown",
   "metadata": {},
   "source": [
    "### 3) Réaliser l'imputation des valeurs manquantes pour la variable \"Experience\" avec : \n",
    "- la valeur médiane pour les data scientists\n",
    "- la valeur moyenne pour les data engineers"
   ]
  },
  {
   "cell_type": "markdown",
   "metadata": {
    "scrolled": true
   },
   "source": [
    "#### a) Nombre de valeurs manquence pour les data scientists et engineers"
   ]
  },
  {
   "cell_type": "code",
   "execution_count": 36,
   "metadata": {},
   "outputs": [
    {
     "name": "stdout",
     "output_type": "stream",
     "text": [
      "Nombre de valeurs manquantes pour les data scientists 32\n"
     ]
    }
   ],
   "source": [
    "Nbre_na_ds = df[\"Experience\"][df[\"Metier\"] == 'Data scientist'].isna().sum()\n",
    "print(f'Nombre de valeurs manquantes pour les data scientists {Nbre_na_ds}')"
   ]
  },
  {
   "cell_type": "code",
   "execution_count": 37,
   "metadata": {},
   "outputs": [
    {
     "name": "stdout",
     "output_type": "stream",
     "text": [
      "Nombre de valeurs manquantes pour les data engineers 20\n"
     ]
    }
   ],
   "source": [
    "Nbre_na_de = df[\"Experience\"][df[\"Metier\"] == 'Data engineer'].isna().sum()\n",
    "print(f'Nombre de valeurs manquantes pour les data engineers {Nbre_na_de}')"
   ]
  },
  {
   "cell_type": "markdown",
   "metadata": {},
   "source": [
    "#### b) Calcul de la mediane des années d'experience des data scientists et la moyenne d'experience des data engineers"
   ]
  },
  {
   "cell_type": "code",
   "execution_count": 38,
   "metadata": {},
   "outputs": [
    {
     "name": "stdout",
     "output_type": "stream",
     "text": [
      "Les data scientists ont en mediane 2.0 années d'experience\n"
     ]
    }
   ],
   "source": [
    "Exp_ds = df['Experience'][df['Metier'] == 'Data scientist']\n",
    "Med_exp_ds = Exp_ds.median(axis=0, skipna=True)\n",
    "print(f\"Les data scientists ont en mediane {Med_exp_ds} années d'experience\")"
   ]
  },
  {
   "cell_type": "code",
   "execution_count": 39,
   "metadata": {},
   "outputs": [
    {
     "name": "stdout",
     "output_type": "stream",
     "text": [
      "Les data engineers ont en moyenne 2.98 années d'experience\n"
     ]
    }
   ],
   "source": [
    "Exp_de = df['Experience'][df['Metier'] == 'Data engineer']\n",
    "Mean_exp_de = round(Exp_de.mean(axis=0, skipna=True), 2)\n",
    "print(f\"Les data engineers ont en moyenne {Mean_exp_de} années d'experience\")"
   ]
  },
  {
   "cell_type": "markdown",
   "metadata": {},
   "source": [
    "#### c) Imputation des valeurs manquantes pour la variable \"Experience\""
   ]
  },
  {
   "cell_type": "code",
   "execution_count": 40,
   "metadata": {},
   "outputs": [],
   "source": [
    "# Avec la valeur médiane pour les data scientists\n",
    "Index_missing_values_ds = list(df[df['Metier'] == 'Data scientist'].loc[df['Experience'].isnull(),'Experience'].index)\n",
    "df.iloc[Index_missing_values_ds , 4] = Med_exp_ds"
   ]
  },
  {
   "cell_type": "code",
   "execution_count": 41,
   "metadata": {},
   "outputs": [],
   "source": [
    "# Avec la valeur moyenne des data engineer\n",
    "Index_missing_values_de = list(df[df['Metier'] == 'Data engineer'].loc[df['Experience'].isnull(),'Experience'].index)\n",
    "df.iloc[Index_missing_values_de, 4] =  Nbre_na_de"
   ]
  },
  {
   "cell_type": "code",
   "execution_count": 42,
   "metadata": {},
   "outputs": [
    {
     "data": {
      "text/html": [
       "<div>\n",
       "<style scoped>\n",
       "    .dataframe tbody tr th:only-of-type {\n",
       "        vertical-align: middle;\n",
       "    }\n",
       "\n",
       "    .dataframe tbody tr th {\n",
       "        vertical-align: top;\n",
       "    }\n",
       "\n",
       "    .dataframe thead th {\n",
       "        text-align: right;\n",
       "    }\n",
       "</style>\n",
       "<table border=\"1\" class=\"dataframe\">\n",
       "  <thead>\n",
       "    <tr style=\"text-align: right;\">\n",
       "      <th></th>\n",
       "      <th>Experience</th>\n",
       "    </tr>\n",
       "  </thead>\n",
       "  <tbody>\n",
       "    <tr>\n",
       "      <td>count</td>\n",
       "      <td>9540.000000</td>\n",
       "    </tr>\n",
       "    <tr>\n",
       "      <td>mean</td>\n",
       "      <td>2.847484</td>\n",
       "    </tr>\n",
       "    <tr>\n",
       "      <td>std</td>\n",
       "      <td>2.821062</td>\n",
       "    </tr>\n",
       "    <tr>\n",
       "      <td>min</td>\n",
       "      <td>0.000000</td>\n",
       "    </tr>\n",
       "    <tr>\n",
       "      <td>25%</td>\n",
       "      <td>1.000000</td>\n",
       "    </tr>\n",
       "    <tr>\n",
       "      <td>50%</td>\n",
       "      <td>2.000000</td>\n",
       "    </tr>\n",
       "    <tr>\n",
       "      <td>75%</td>\n",
       "      <td>3.500000</td>\n",
       "    </tr>\n",
       "    <tr>\n",
       "      <td>max</td>\n",
       "      <td>21.000000</td>\n",
       "    </tr>\n",
       "  </tbody>\n",
       "</table>\n",
       "</div>"
      ],
      "text/plain": [
       "        Experience\n",
       "count  9540.000000\n",
       "mean      2.847484\n",
       "std       2.821062\n",
       "min       0.000000\n",
       "25%       1.000000\n",
       "50%       2.000000\n",
       "75%       3.500000\n",
       "max      21.000000"
      ]
     },
     "execution_count": 42,
     "metadata": {},
     "output_type": "execute_result"
    }
   ],
   "source": [
    "# description des données\n",
    "df.describe()"
   ]
  },
  {
   "cell_type": "markdown",
   "metadata": {},
   "source": [
    "### 4) Combien d'années d'expériences ont, en moyenne, chacun des profils : le data scientist, le lead data scientist et le data engineer en moyenne?"
   ]
  },
  {
   "cell_type": "markdown",
   "metadata": {},
   "source": [
    "#### a) Nombres d'observation par profil"
   ]
  },
  {
   "cell_type": "code",
   "execution_count": 43,
   "metadata": {},
   "outputs": [
    {
     "data": {
      "text/plain": [
       "Metier\n",
       "Data architecte        2123\n",
       "Data engineer          2347\n",
       "Data scientist         3865\n",
       "Lead data scientist    1228\n",
       "dtype: int64"
      ]
     },
     "execution_count": 43,
     "metadata": {},
     "output_type": "execute_result"
    }
   ],
   "source": [
    "# Nombres d'osservations par metiers\n",
    "df.groupby(by='Metier').size()"
   ]
  },
  {
   "cell_type": "markdown",
   "metadata": {},
   "source": [
    "#### b) Calcul de la moyenne d'experience pour chaque profil"
   ]
  },
  {
   "cell_type": "code",
   "execution_count": 44,
   "metadata": {},
   "outputs": [
    {
     "name": "stdout",
     "output_type": "stream",
     "text": [
      "                     Experience\n",
      "Metier                         \n",
      "Data architecte            3.00\n",
      "Data engineer              3.13\n",
      "Data scientist             2.24\n",
      "Lead data scientist        3.97\n"
     ]
    }
   ],
   "source": [
    "print(round(df.groupby('Metier').mean(),2))"
   ]
  },
  {
   "cell_type": "raw",
   "metadata": {},
   "source": [
    "En moyenne les Lead data scientists ont plus d'année d'experience que les autres profils.\n",
    "Cependant les profils data scientists sont ceux qui ont en moyenne peux d'année d'experience."
   ]
  },
  {
   "cell_type": "markdown",
   "metadata": {},
   "source": [
    "### 5) Faire la représentation graphique de votre choix afin de comparer le nombre moyen d'années d'expériences pour chaque métier"
   ]
  },
  {
   "cell_type": "code",
   "execution_count": 45,
   "metadata": {},
   "outputs": [
    {
     "data": {
      "text/plain": [
       "Text(0.5,1,\"Représentation du nombre d'année d'expérience par métier\")"
      ]
     },
     "execution_count": 45,
     "metadata": {},
     "output_type": "execute_result"
    },
    {
     "data": {
      "image/png": "[encoded data removed]",
      "text/plain": [
       "<Figure size 1080x576 with 1 Axes>"
      ]
     },
     "metadata": {},
     "output_type": "display_data"
    }
   ],
   "source": [
    "plt.figure(figsize=(15, 8))\n",
    "b =  sb.boxplot(x=\"Metier\", y=\"Experience\",\n",
    "            hue=\"Metier\", data=df, palette=\"Set1\")\n",
    "\n",
    "b.axes.set_xlabel(\"Metier\",fontsize=18)\n",
    "b.axes.set_ylabel(\"Experience\",fontsize=18)\n",
    "b.axes.set_title(\"Représentation du nombre d'année d'expérience par métier\",fontsize=17)"
   ]
  },
  {
   "cell_type": "code",
   "execution_count": 46,
   "metadata": {},
   "outputs": [
    {
     "name": "stdout",
     "output_type": "stream",
     "text": [
      "                     Experience\n",
      "Metier                         \n",
      "Data architecte            7.42\n",
      "Data engineer             10.10\n",
      "Data scientist             6.33\n",
      "Lead data scientist        7.26\n"
     ]
    }
   ],
   "source": [
    "print(round(df.groupby('Metier').var(),2))"
   ]
  },
  {
   "cell_type": "code",
   "execution_count": 47,
   "metadata": {},
   "outputs": [
    {
     "name": "stdout",
     "output_type": "stream",
     "text": [
      "                     Experience\n",
      "Metier                         \n",
      "Data architecte             2.5\n",
      "Data engineer               2.5\n",
      "Data scientist              2.0\n",
      "Lead data scientist         3.5\n"
     ]
    }
   ],
   "source": [
    "print(round(df.groupby('Metier').median(),2))"
   ]
  },
  {
   "cell_type": "raw",
   "metadata": {},
   "source": [
    "Ce box-plot permet de visualiser les concepts tels que la symétrie, la dispersion ou la centralité de la distribution des valeurs associées aux variables étudiées. \n",
    "Elle permets aussi de comparer des variables basées sur des échelles similaires.\n",
    "Les 4 classes contiennent des valeurs extremes (outliers)"
   ]
  },
  {
   "cell_type": "markdown",
   "metadata": {},
   "source": [
    "### 6) Transformer la variable continue 'Experience' en une nouvelle variable catégorielle 'Exp_label' à 4 modalités: débutant, confirmé, avancé et expert\n",
    "- Veuillez expliquer votre choix du règle de transformation.  "
   ]
  },
  {
   "cell_type": "markdown",
   "metadata": {},
   "source": [
    "#### a) Nombre d'années d'experiences manquantes pour les autres profils"
   ]
  },
  {
   "cell_type": "code",
   "execution_count": 48,
   "metadata": {},
   "outputs": [
    {
     "name": "stdout",
     "output_type": "stream",
     "text": [
      "Nombre de valeurs manquantes pour les Data architectes 23\n"
     ]
    }
   ],
   "source": [
    "Nbre_na_da = df[\"Experience\"][df[\"Metier\"] == 'Data architecte'].isna().sum()\n",
    "print(f'Nombre de valeurs manquantes pour les Data architectes {Nbre_na_da}')"
   ]
  },
  {
   "cell_type": "code",
   "execution_count": 49,
   "metadata": {},
   "outputs": [
    {
     "name": "stdout",
     "output_type": "stream",
     "text": [
      "Nombre de valeurs manquantes pour les Lead data scientists 19\n"
     ]
    }
   ],
   "source": [
    "Nbre_na_lds = df[\"Experience\"][df[\"Metier\"] == 'Lead data scientist'].isna().sum()\n",
    "print(f'Nombre de valeurs manquantes pour les Lead data scientists {Nbre_na_lds}')"
   ]
  },
  {
   "cell_type": "code",
   "execution_count": 50,
   "metadata": {},
   "outputs": [
    {
     "name": "stdout",
     "output_type": "stream",
     "text": [
      "Nombre de valeurs manquantes pour les Lead data scientists 19\n"
     ]
    }
   ],
   "source": [
    "Nbre_na_lds = df[\"Experience\"][df[\"Metier\"] == 'Lead data scientist'].isna().sum()\n",
    "print(f'Nombre de valeurs manquantes pour les Lead data scientists {Nbre_na_lds}')"
   ]
  },
  {
   "cell_type": "code",
   "execution_count": 51,
   "metadata": {},
   "outputs": [
    {
     "data": {
      "text/plain": [
       "42"
      ]
     },
     "execution_count": 51,
     "metadata": {},
     "output_type": "execute_result"
    }
   ],
   "source": [
    "# Verifier les NA pour les autres variables\n",
    "df['Experience'].isna().sum()"
   ]
  },
  {
   "cell_type": "raw",
   "metadata": {},
   "source": [
    "Nous avons au total 42 valeurs manquantes\n",
    "- Data architecte:  23\n",
    "- Lead data scientist: 19\n",
    "\n",
    "Pour traiter ses valeurs manquantes:\n",
    "- Calculer la valeur moyenne par cathegorie \n",
    "- Imputer ses valeurs par ces moyennes"
   ]
  },
  {
   "cell_type": "markdown",
   "metadata": {},
   "source": [
    "#### b) Calcul des moyennes d'experience pour les profils:\n",
    "- Data architecte \n",
    "- Lead data scientist\n"
   ]
  },
  {
   "cell_type": "code",
   "execution_count": 52,
   "metadata": {},
   "outputs": [],
   "source": [
    "Exp_da = df['Experience'][df['Metier'] == 'Data architecte']\n",
    "Mean_exp_da = Exp_da.mean(axis=0, skipna=True)"
   ]
  },
  {
   "cell_type": "code",
   "execution_count": 53,
   "metadata": {},
   "outputs": [],
   "source": [
    "Exp_lds = df['Experience'][df['Metier'] == 'Lead data scientist']\n",
    "Mean_exp_lds = Exp_lds.mean(axis=0, skipna=True)"
   ]
  },
  {
   "cell_type": "markdown",
   "metadata": {},
   "source": [
    "#### c) Imputation des valeurs manquants par la moyenne de chaque profil"
   ]
  },
  {
   "cell_type": "code",
   "execution_count": 54,
   "metadata": {},
   "outputs": [],
   "source": [
    "Index_missing_values_da = list(df[df['Metier'] == 'Data architecte'].loc[df['Experience'].isnull(),'Experience'].index)\n",
    "df.iloc[Index_missing_values_da, 4] =  Mean_exp_da"
   ]
  },
  {
   "cell_type": "code",
   "execution_count": 55,
   "metadata": {},
   "outputs": [],
   "source": [
    "Index_missing_values_lds  = list(df[df['Metier'] == 'Lead data scientist'].loc[df['Experience'].isnull(),'Experience'].index)\n",
    "df.iloc[Index_missing_values_lds, 4] =  Mean_exp_lds"
   ]
  },
  {
   "cell_type": "markdown",
   "metadata": {},
   "source": [
    "#### d) valeurs manquante pour la variables \"Metier\""
   ]
  },
  {
   "cell_type": "code",
   "execution_count": 56,
   "metadata": {},
   "outputs": [
    {
     "data": {
      "text/plain": [
       "19"
      ]
     },
     "execution_count": 56,
     "metadata": {},
     "output_type": "execute_result"
    }
   ],
   "source": [
    "df['Metier'].isna().sum()"
   ]
  },
  {
   "cell_type": "raw",
   "metadata": {},
   "source": [
    "Nous calculons les 3 premiers quantiles (.25, .5 et .75) par métier,\n",
    "Et nous associons les catégories selon la règle suivante:\n",
    "\n",
    "If Exp < quantile(0.25) => Exp_label = Débutant\n",
    "    Elif Exp in [quantile(0.25), quantile(0.5)) = Confirmé\n",
    "    Elif Exp in [quantile(0.5), quantile(0.75)) = Avancé\n",
    "    Else Exp >= quantile(0.75) = Expert\n",
    "    \n",
    "Creation of an empty column named 'Exp_label':"
   ]
  },
  {
   "cell_type": "code",
   "execution_count": 57,
   "metadata": {},
   "outputs": [],
   "source": [
    "df['Exp_label'] = np.nan"
   ]
  },
  {
   "cell_type": "code",
   "execution_count": 58,
   "metadata": {},
   "outputs": [],
   "source": [
    "Metier_l = list(set(df['Metier']))\n",
    "quantile_label = {0.25:'debutant', 0.5:'confirme', 0.75:'avance', 0.76:'expert'}\n",
    "for i in Metier_l:\n",
    "    for ql in quantile_label:\n",
    "        if ql <= 0.75:\n",
    "            ind = list(df[(df['Metier'] == i) & (df['Exp_label'].isna())].loc[df['Experience'] < df['Experience'].quantile(q=ql),'Experience'].index)\n",
    "            df.iloc[ind , 6] = quantile_label[ql]\n",
    "        else: # Expert class\n",
    "            ind = list(df[(df['Metier'] == i) & (df['Exp_label'].isna())].index)\n",
    "            df.iloc[ind , 6] = quantile_label[ql]\n"
   ]
  },
  {
   "cell_type": "markdown",
   "metadata": {},
   "source": [
    "#### e) Representation graphique"
   ]
  },
  {
   "cell_type": "code",
   "execution_count": 59,
   "metadata": {},
   "outputs": [
    {
     "data": {
      "text/plain": [
       "Text(0.5,1,\"Répartion des niveaux d'expériece par métier\")"
      ]
     },
     "execution_count": 59,
     "metadata": {},
     "output_type": "execute_result"
    },
    {
     "data": {
      "image/png": "[encoded data removed]",
      "text/plain": [
       "<Figure size 1152x648 with 1 Axes>"
      ]
     },
     "metadata": {},
     "output_type": "display_data"
    }
   ],
   "source": [
    "plt.figure(figsize=(16, 9))\n",
    "b =  sb.countplot( x=\"Exp_label\", hue=\"Metier\", data=df, palette=\"Set1\")\n",
    "\n",
    "b.axes.set_xlabel(\"Expérience label\",fontsize=18)\n",
    "b.axes.set_ylabel(\"Count\",fontsize=18)\n",
    "b.axes.set_title(\"Répartion des niveaux d'expériece par métier\",fontsize=18)"
   ]
  },
  {
   "cell_type": "markdown",
   "metadata": {},
   "source": [
    "### 7) Quelles sont les 5 technologies les plus utilisées? Faites un graphique"
   ]
  },
  {
   "cell_type": "code",
   "execution_count": 60,
   "metadata": {},
   "outputs": [
    {
     "data": {
      "text/html": [
       "<div>\n",
       "<style scoped>\n",
       "    .dataframe tbody tr th:only-of-type {\n",
       "        vertical-align: middle;\n",
       "    }\n",
       "\n",
       "    .dataframe tbody tr th {\n",
       "        vertical-align: top;\n",
       "    }\n",
       "\n",
       "    .dataframe thead th {\n",
       "        text-align: right;\n",
       "    }\n",
       "</style>\n",
       "<table border=\"1\" class=\"dataframe\">\n",
       "  <thead>\n",
       "    <tr style=\"text-align: right;\">\n",
       "      <th></th>\n",
       "      <th>technologie</th>\n",
       "      <th>frequence</th>\n",
       "    </tr>\n",
       "  </thead>\n",
       "  <tbody>\n",
       "    <tr>\n",
       "      <td>0</td>\n",
       "      <td>Python</td>\n",
       "      <td>6627</td>\n",
       "    </tr>\n",
       "    <tr>\n",
       "      <td>1</td>\n",
       "      <td>R</td>\n",
       "      <td>4374</td>\n",
       "    </tr>\n",
       "    <tr>\n",
       "      <td>2</td>\n",
       "      <td>SQL</td>\n",
       "      <td>2581</td>\n",
       "    </tr>\n",
       "    <tr>\n",
       "      <td>3</td>\n",
       "      <td>Java</td>\n",
       "      <td>1719</td>\n",
       "    </tr>\n",
       "    <tr>\n",
       "      <td>4</td>\n",
       "      <td>Hadoop</td>\n",
       "      <td>1589</td>\n",
       "    </tr>\n",
       "  </tbody>\n",
       "</table>\n",
       "</div>"
      ],
      "text/plain": [
       "  technologie  frequence\n",
       "0      Python       6627\n",
       "1           R       4374\n",
       "2         SQL       2581\n",
       "3        Java       1719\n",
       "4      Hadoop       1589"
      ]
     },
     "execution_count": 60,
     "metadata": {},
     "output_type": "execute_result"
    }
   ],
   "source": [
    "l =[]\n",
    "techno = df['Technologies']\n",
    "for i in range(len(techno)):\n",
    "    v = re.split('/', techno[i], flags=re.IGNORECASE)\n",
    "    for i in range(len(v)):\n",
    "        l.append(v[i])\n",
    "\n",
    "# transformation des données\n",
    "data_technologie = pd.Series(l).value_counts()\n",
    "data_techno = data_technologie.to_frame().reset_index()\n",
    "data_techno.columns = ['technologie', 'frequence']\n",
    "\n",
    "data_techno.head()\n"
   ]
  },
  {
   "cell_type": "code",
   "execution_count": 61,
   "metadata": {},
   "outputs": [
    {
     "name": "stdout",
     "output_type": "stream",
     "text": [
      "  technologie  frequence\n",
      "0      Python       6627\n",
      "1           R       4374\n",
      "2         SQL       2581\n",
      "3        Java       1719\n",
      "4      Hadoop       1589\n"
     ]
    }
   ],
   "source": [
    "# extraction des 5 technologie les plus utilisées\n",
    "top5 = data_techno.iloc[0:5]\n",
    "print(top5)"
   ]
  },
  {
   "cell_type": "code",
   "execution_count": 62,
   "metadata": {},
   "outputs": [
    {
     "data": {
      "text/plain": [
       "Text(0.5,1,'Top 5 des tecnhologies')"
      ]
     },
     "execution_count": 62,
     "metadata": {},
     "output_type": "execute_result"
    },
    {
     "data": {
      "image/png": "[encoded data removed]",
      "text/plain": [
       "<Figure size 720x432 with 1 Axes>"
      ]
     },
     "metadata": {},
     "output_type": "display_data"
    }
   ],
   "source": [
    "plt.figure(figsize=(10,6))\n",
    "sb.barplot('technologie', 'frequence', data=top5, palette=\"Blues_d\").set_title(\"Top 5 des tecnhologies\")"
   ]
  },
  {
   "cell_type": "markdown",
   "metadata": {},
   "source": [
    "### 8) Réaliser une méthode de clustering non supervisée de votre choix pour faire apparaître 2 clusters que vous jugerez pertinents. Donnez les caractéristiques de chacun des clusters.\n",
    "-  Justifier la performance de votre algorithme grace à une métrique.\n",
    "-  Interpréter votre resultat.  "
   ]
  },
  {
   "cell_type": "markdown",
   "metadata": {},
   "source": [
    "#### a) Encodage des variables\n"
   ]
  },
  {
   "cell_type": "code",
   "execution_count": 126,
   "metadata": {},
   "outputs": [],
   "source": [
    "# entreprise \n",
    "s = pd.Series(list(df['Entreprise']))\n",
    "one_hot_encoding_entreprise = pd.get_dummies(s)\n",
    "one_hot_encoding_entreprise.shape\n",
    "indexL = []\n",
    "one_hot_encoding_entreprise.sum(axis=1)\n",
    "for i in range(one_hot_encoding_entreprise.shape[1]):\n",
    "    if one_hot_encoding_entreprise.iloc[:,i].sum() < 30:\n",
    "        indexL.append(i)\n",
    "one_hot_encoding_entreprise = one_hot_encoding_entreprise.drop(one_hot_encoding_entreprise.columns[indexL], axis=1)"
   ]
  },
  {
   "cell_type": "code",
   "execution_count": 127,
   "metadata": {},
   "outputs": [
    {
     "name": "stdout",
     "output_type": "stream",
     "text": [
      "(9582, 49)\n"
     ]
    }
   ],
   "source": [
    "print(one_hot_encoding_entreprise.shape)"
   ]
  },
  {
   "cell_type": "code",
   "execution_count": 128,
   "metadata": {},
   "outputs": [],
   "source": [
    "# technologie\n",
    "\n",
    "Ltechno = []\n",
    "techno = df['Technologies']\n",
    "for i in range(len(techno)):\n",
    "    v = re.split('/', techno[i], flags=re.IGNORECASE)\n",
    "    for i in range(len(v)):\n",
    "        Ltechno.append(v[i])\n",
    "set_Techno = list(set(Ltechno))\n",
    "set_Techno = set_Techno[1:len(set_Techno)] # Remove the empty techno\n",
    "\n",
    "MTechno = np.zeros((df.shape[0], len(set_Techno)))\n",
    "dfTechno = pd.DataFrame(MTechno)\n"
   ]
  },
  {
   "cell_type": "code",
   "execution_count": 129,
   "metadata": {},
   "outputs": [],
   "source": [
    "for i in range(len(set_Techno)):\n",
    "    for j in range(df.shape[0]):\n",
    "        if df['Technologies'][j].find(set_Techno[i]) != -1:\n",
    "            dfTechno.iloc[j,i] = 1"
   ]
  },
  {
   "cell_type": "code",
   "execution_count": 143,
   "metadata": {},
   "outputs": [
    {
     "data": {
      "text/plain": [
       "(9582, 60)"
      ]
     },
     "execution_count": 143,
     "metadata": {},
     "output_type": "execute_result"
    }
   ],
   "source": [
    "dfTechno.shape"
   ]
  },
  {
   "cell_type": "code",
   "execution_count": 92,
   "metadata": {},
   "outputs": [],
   "source": [
    "# metier \n",
    "s_metier = pd.Series(list(df['Metier']))\n",
    "one_hot_encoding_metier = pd.get_dummies(s_metier)"
   ]
  },
  {
   "cell_type": "code",
   "execution_count": null,
   "metadata": {},
   "outputs": [],
   "source": [
    "print(one_hot_encoding_metier.shape)\n",
    "print(one_hot_encoding_metier.shape)"
   ]
  },
  {
   "cell_type": "code",
   "execution_count": 95,
   "metadata": {},
   "outputs": [],
   "source": [
    "# Diplome \n",
    "s_diplome = pd.Series(list(df['Diplome']))\n",
    "one_hot_encoding_diplome = pd.get_dummies(s_diplome)"
   ]
  },
  {
   "cell_type": "code",
   "execution_count": 132,
   "metadata": {},
   "outputs": [
    {
     "name": "stdout",
     "output_type": "stream",
     "text": [
      "(9582, 4)\n"
     ]
    }
   ],
   "source": [
    "print(one_hot_encoding_experience.sum(axis=0))\n",
    "print(one_hot_encoding_diplome.shape)\n"
   ]
  },
  {
   "cell_type": "code",
   "execution_count": 99,
   "metadata": {},
   "outputs": [],
   "source": [
    "# Exp_label \n",
    "s_experience = pd.Series(list(df['Exp_label']))\n",
    "one_hot_encoding_experience = pd.get_dummies(s_experience)"
   ]
  },
  {
   "cell_type": "code",
   "execution_count": 144,
   "metadata": {},
   "outputs": [
    {
     "name": "stdout",
     "output_type": "stream",
     "text": [
      "(9582, 4)\n",
      "avance      2625\n",
      "confirme    2015\n",
      "debutant    1811\n",
      "expert      3112\n",
      "dtype: int64\n"
     ]
    }
   ],
   "source": [
    "print(one_hot_encoding_experience.shape)\n",
    "print(one_hot_encoding_experience.sum(axis=0))"
   ]
  },
  {
   "cell_type": "code",
   "execution_count": 145,
   "metadata": {},
   "outputs": [],
   "source": [
    "# Ville\n",
    "s_ville = pd.Series(list(df['Ville']))\n",
    "one_hot_encoding_ville = pd.get_dummies(s_ville)"
   ]
  },
  {
   "cell_type": "code",
   "execution_count": 146,
   "metadata": {},
   "outputs": [
    {
     "name": "stdout",
     "output_type": "stream",
     "text": [
      "Bordeaux        692\n",
      "Grenoble         99\n",
      "Lille           771\n",
      "Lyon           1781\n",
      "Marseille      1548\n",
      "Montpellier      87\n",
      "Nantes          365\n",
      "Nice            183\n",
      "Paris          2015\n",
      "Rennes          360\n",
      "Rouen           315\n",
      "Strasbourg      309\n",
      "Toulon          186\n",
      "Toulouse        871\n",
      "dtype: int64\n",
      "(9582, 14)\n"
     ]
    }
   ],
   "source": [
    "print(one_hot_encoding_ville.sum(axis=0))\n",
    "print(one_hot_encoding_ville.shape)"
   ]
  },
  {
   "cell_type": "markdown",
   "metadata": {},
   "source": [
    "#### b) Merge des data frames"
   ]
  },
  {
   "cell_type": "code",
   "execution_count": 151,
   "metadata": {},
   "outputs": [],
   "source": [
    "# merge all data transform\n",
    "df_merge = pd.concat([one_hot_encoding_diplome, one_hot_encoding_entreprise,\n",
    "                   one_hot_encoding_metier, one_hot_encoding_ville , \n",
    "                   one_hot_encoding_experience], axis=1)"
   ]
  },
  {
   "cell_type": "code",
   "execution_count": 160,
   "metadata": {},
   "outputs": [
    {
     "name": "stdout",
     "output_type": "stream",
     "text": [
      "le nouveau daframe contient 9582 observation et 75 variables\n",
      "Le daframe initial contient 9582 observation et 6 variables\n"
     ]
    }
   ],
   "source": [
    "print(f'le nouveau daframe contient {df_merge.shape[0]} observation et {df_merge.shape[1]} variables')\n",
    "print(f'Le daframe initial contient {df.shape[0]} observation et {df.shape[1]-1} variables')"
   ]
  },
  {
   "cell_type": "raw",
   "metadata": {},
   "source": [
    "Toutes les  variables (75 variables) sont qualitatives"
   ]
  },
  {
   "cell_type": "code",
   "execution_count": 161,
   "metadata": {},
   "outputs": [
    {
     "data": {
      "text/html": [
       "<div>\n",
       "<style scoped>\n",
       "    .dataframe tbody tr th:only-of-type {\n",
       "        vertical-align: middle;\n",
       "    }\n",
       "\n",
       "    .dataframe tbody tr th {\n",
       "        vertical-align: top;\n",
       "    }\n",
       "\n",
       "    .dataframe thead th {\n",
       "        text-align: right;\n",
       "    }\n",
       "</style>\n",
       "<table border=\"1\" class=\"dataframe\">\n",
       "  <thead>\n",
       "    <tr style=\"text-align: right;\">\n",
       "      <th></th>\n",
       "      <th>Bachelor</th>\n",
       "      <th>Master</th>\n",
       "      <th>No diploma</th>\n",
       "      <th>Phd</th>\n",
       "      <th>Accenture</th>\n",
       "      <th>Advanced Micro Devices, Inc.</th>\n",
       "      <th>Allstate</th>\n",
       "      <th>Amazon.com</th>\n",
       "      <th>Ball Aerospace</th>\n",
       "      <th>Bank of America</th>\n",
       "      <th>...</th>\n",
       "      <th>Paris</th>\n",
       "      <th>Rennes</th>\n",
       "      <th>Rouen</th>\n",
       "      <th>Strasbourg</th>\n",
       "      <th>Toulon</th>\n",
       "      <th>Toulouse</th>\n",
       "      <th>avance</th>\n",
       "      <th>confirme</th>\n",
       "      <th>debutant</th>\n",
       "      <th>expert</th>\n",
       "    </tr>\n",
       "  </thead>\n",
       "  <tbody>\n",
       "    <tr>\n",
       "      <td>0</td>\n",
       "      <td>0</td>\n",
       "      <td>1</td>\n",
       "      <td>0</td>\n",
       "      <td>0</td>\n",
       "      <td>0</td>\n",
       "      <td>0</td>\n",
       "      <td>0</td>\n",
       "      <td>0</td>\n",
       "      <td>0</td>\n",
       "      <td>0</td>\n",
       "      <td>...</td>\n",
       "      <td>1</td>\n",
       "      <td>0</td>\n",
       "      <td>0</td>\n",
       "      <td>0</td>\n",
       "      <td>0</td>\n",
       "      <td>0</td>\n",
       "      <td>0</td>\n",
       "      <td>1</td>\n",
       "      <td>0</td>\n",
       "      <td>0</td>\n",
       "    </tr>\n",
       "    <tr>\n",
       "      <td>1</td>\n",
       "      <td>0</td>\n",
       "      <td>1</td>\n",
       "      <td>0</td>\n",
       "      <td>0</td>\n",
       "      <td>0</td>\n",
       "      <td>0</td>\n",
       "      <td>0</td>\n",
       "      <td>0</td>\n",
       "      <td>0</td>\n",
       "      <td>0</td>\n",
       "      <td>...</td>\n",
       "      <td>0</td>\n",
       "      <td>0</td>\n",
       "      <td>0</td>\n",
       "      <td>0</td>\n",
       "      <td>0</td>\n",
       "      <td>0</td>\n",
       "      <td>1</td>\n",
       "      <td>0</td>\n",
       "      <td>0</td>\n",
       "      <td>0</td>\n",
       "    </tr>\n",
       "    <tr>\n",
       "      <td>2</td>\n",
       "      <td>0</td>\n",
       "      <td>1</td>\n",
       "      <td>0</td>\n",
       "      <td>0</td>\n",
       "      <td>0</td>\n",
       "      <td>0</td>\n",
       "      <td>0</td>\n",
       "      <td>0</td>\n",
       "      <td>0</td>\n",
       "      <td>0</td>\n",
       "      <td>...</td>\n",
       "      <td>0</td>\n",
       "      <td>0</td>\n",
       "      <td>0</td>\n",
       "      <td>0</td>\n",
       "      <td>0</td>\n",
       "      <td>0</td>\n",
       "      <td>1</td>\n",
       "      <td>0</td>\n",
       "      <td>0</td>\n",
       "      <td>0</td>\n",
       "    </tr>\n",
       "    <tr>\n",
       "      <td>3</td>\n",
       "      <td>0</td>\n",
       "      <td>1</td>\n",
       "      <td>0</td>\n",
       "      <td>0</td>\n",
       "      <td>0</td>\n",
       "      <td>0</td>\n",
       "      <td>0</td>\n",
       "      <td>0</td>\n",
       "      <td>0</td>\n",
       "      <td>0</td>\n",
       "      <td>...</td>\n",
       "      <td>0</td>\n",
       "      <td>0</td>\n",
       "      <td>0</td>\n",
       "      <td>0</td>\n",
       "      <td>0</td>\n",
       "      <td>0</td>\n",
       "      <td>0</td>\n",
       "      <td>1</td>\n",
       "      <td>0</td>\n",
       "      <td>0</td>\n",
       "    </tr>\n",
       "    <tr>\n",
       "      <td>4</td>\n",
       "      <td>0</td>\n",
       "      <td>0</td>\n",
       "      <td>0</td>\n",
       "      <td>1</td>\n",
       "      <td>0</td>\n",
       "      <td>0</td>\n",
       "      <td>0</td>\n",
       "      <td>0</td>\n",
       "      <td>0</td>\n",
       "      <td>0</td>\n",
       "      <td>...</td>\n",
       "      <td>0</td>\n",
       "      <td>0</td>\n",
       "      <td>0</td>\n",
       "      <td>0</td>\n",
       "      <td>0</td>\n",
       "      <td>0</td>\n",
       "      <td>1</td>\n",
       "      <td>0</td>\n",
       "      <td>0</td>\n",
       "      <td>0</td>\n",
       "    </tr>\n",
       "  </tbody>\n",
       "</table>\n",
       "<p>5 rows × 75 columns</p>\n",
       "</div>"
      ],
      "text/plain": [
       "   Bachelor  Master  No diploma  Phd  Accenture  Advanced Micro Devices, Inc.  \\\n",
       "0         0       1           0    0          0                             0   \n",
       "1         0       1           0    0          0                             0   \n",
       "2         0       1           0    0          0                             0   \n",
       "3         0       1           0    0          0                             0   \n",
       "4         0       0           0    1          0                             0   \n",
       "\n",
       "   Allstate  Amazon.com  Ball Aerospace  Bank of America  ...  Paris  Rennes  \\\n",
       "0         0           0               0                0  ...      1       0   \n",
       "1         0           0               0                0  ...      0       0   \n",
       "2         0           0               0                0  ...      0       0   \n",
       "3         0           0               0                0  ...      0       0   \n",
       "4         0           0               0                0  ...      0       0   \n",
       "\n",
       "   Rouen  Strasbourg  Toulon  Toulouse  avance  confirme  debutant  expert  \n",
       "0      0           0       0         0       0         1         0       0  \n",
       "1      0           0       0         0       1         0         0       0  \n",
       "2      0           0       0         0       1         0         0       0  \n",
       "3      0           0       0         0       0         1         0       0  \n",
       "4      0           0       0         0       1         0         0       0  \n",
       "\n",
       "[5 rows x 75 columns]"
      ]
     },
     "execution_count": 161,
     "metadata": {},
     "output_type": "execute_result"
    }
   ],
   "source": [
    "df_merge.head()"
   ]
  },
  {
   "cell_type": "markdown",
   "metadata": {},
   "source": [
    "#### C) Selection des variables"
   ]
  },
  {
   "cell_type": "code",
   "execution_count": null,
   "metadata": {},
   "outputs": [],
   "source": []
  },
  {
   "cell_type": "code",
   "execution_count": null,
   "metadata": {},
   "outputs": [],
   "source": []
  },
  {
   "cell_type": "markdown",
   "metadata": {},
   "source": [
    "### 9) Réaliser la prédiction des métiers manquants dans la base de données par l'algorithme de votre choix\n",
    "-  Justifier la performance de votre algorithme grace à une métrique.\n",
    "-  Interpréter votre resultat.  "
   ]
  },
  {
   "cell_type": "code",
   "execution_count": null,
   "metadata": {},
   "outputs": [],
   "source": []
  },
  {
   "cell_type": "markdown",
   "metadata": {},
   "source": [
    "### 10) Décrire de façon détaillée les différentes étapes pour mener à bien un projet data complexe.\n",
    "\n",
    "Dans le cadre d’une campagne de recrutement vous avez reçu un ensemble de cv qui ne sont pas à jour (le poste actuel n’est pas présent). Deux exemple de CV vous sont donnés en pièce jointe (il n'y a pas de mise en page type). Tous les CV sont au format PDF.\n",
    "\n",
    "On souhaite connaitre le poste actuel de chaque candidat.\n",
    "\n",
    "-  Quelles sont les différentes étapes nécessaires à la réalisation d'un tel projet?\n",
    "-  Pour chaque étape, détaillez les taches à accomplir, les méthodes à suivre, les pistes possibles, les points critiques.\n",
    "-  Justifiez consciencieusement vos choix\n"
   ]
  },
  {
   "cell_type": "code",
   "execution_count": 414,
   "metadata": {},
   "outputs": [
    {
     "ename": "ModuleNotFoundError",
     "evalue": "No module named 'pdftools'",
     "output_type": "error",
     "traceback": [
      "\u001b[0;31m---------------------------------------------------------------------------\u001b[0m",
      "\u001b[0;31mModuleNotFoundError\u001b[0m                       Traceback (most recent call last)",
      "\u001b[0;32m<ipython-input-414-13e77115536e>\u001b[0m in \u001b[0;36m<module>\u001b[0;34m\u001b[0m\n\u001b[0;32m----> 1\u001b[0;31m \u001b[0;32mfrom\u001b[0m \u001b[0mpdftools\u001b[0m\u001b[0;34m.\u001b[0m\u001b[0mpdffile\u001b[0m \u001b[0;32mimport\u001b[0m \u001b[0mPDFDocument\u001b[0m\u001b[0;34m\u001b[0m\u001b[0;34m\u001b[0m\u001b[0m\n\u001b[0m\u001b[1;32m      2\u001b[0m \u001b[0;34m\u001b[0m\u001b[0m\n\u001b[1;32m      3\u001b[0m \u001b[0;34m\u001b[0m\u001b[0m\n\u001b[1;32m      4\u001b[0m \u001b[0mdoc\u001b[0m \u001b[0;34m=\u001b[0m \u001b[0mPDFDocument\u001b[0m\u001b[0;34m(\u001b[0m\u001b[0;34m'cv1.pdf'\u001b[0m\u001b[0;34m)\u001b[0m\u001b[0;34m\u001b[0m\u001b[0;34m\u001b[0m\u001b[0m\n\u001b[1;32m      5\u001b[0m \u001b[0;34m\u001b[0m\u001b[0m\n",
      "\u001b[0;31mModuleNotFoundError\u001b[0m: No module named 'pdftools'"
     ]
    }
   ],
   "source": [
    "from pdftools.pdffile import PDFDocument\n",
    " \n",
    "    \n",
    "doc = PDFDocument('cv1.pdf')\n",
    " \n",
    "doc.document_version()\n",
    " \n",
    "pages = doc.count_pages()\n",
    "print(pages)\n",
    " \n"
   ]
  },
  {
   "cell_type": "code",
   "execution_count": null,
   "metadata": {},
   "outputs": [],
   "source": []
  }
 ],
 "metadata": {
  "kernelspec": {
   "display_name": "Python 3",
   "language": "python",
   "name": "python3"
  },
  "language_info": {
   "codemirror_mode": {
    "name": "ipython",
    "version": 3
   },
   "file_extension": ".py",
   "mimetype": "text/x-python",
   "name": "python",
   "nbconvert_exporter": "python",
   "pygments_lexer": "ipython3",
   "version": "3.7.4"
  }
 },
 "nbformat": 4,
 "nbformat_minor": 2
}
